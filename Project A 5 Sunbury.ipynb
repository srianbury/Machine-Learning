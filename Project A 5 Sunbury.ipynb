{
 "cells": [
  {
   "cell_type": "code",
   "execution_count": 1,
   "metadata": {
    "collapsed": true
   },
   "outputs": [],
   "source": [
    "import pandas\n",
    "import numpy\n",
    "data = pandas.read_csv('autoMpg.csv')\n",
    "data_for_normalization = pandas.read_csv('autoMpg.csv')\n",
    "\n",
    "def fill_na_values(training_data):\n",
    "    #copy data\n",
    "    training_data_copy = training_data.copy()\n",
    "    #calculate mean horsepower\n",
    "    horsepower_mean = training_data_copy['horsepower'].mean()\n",
    "    #fill na values with the mean\n",
    "    training_data_copy['horsepower'] = training_data_copy['horsepower'].fillna(horsepower_mean)\n",
    "    return training_data_copy\n",
    "\n",
    "def classify_kNN(new_example, training_data, k):\n",
    "    #getting a copy of the training set just so we don't \n",
    "    #mess up the original\n",
    "    training_data_copy = fill_na_values(training_data)\n",
    "    #add a new feature to the data frame\n",
    "    # it is the euclidian distance based on cylinders, displacement, horsepower, and weight\n",
    "    training_data_copy['distance_to_new'] = numpy.sqrt(\n",
    "        (new_example['cylinders']-training_data_copy['cylinders'])**2\n",
    "        +(new_example['displacement']-training_data_copy['displacement'])**2\n",
    "        +(new_example['horsepower']-training_data_copy['horsepower'])**2\n",
    "        +(new_example['weight']-training_data_copy['weight'])**2\n",
    "        +(new_example['acceleration']-training_data_copy['acceleration'])**2\n",
    "        +(new_example['model year']-training_data_copy['model year'])**2\n",
    "        +(new_example['origin']-training_data_copy['origin'])**2)\n",
    "    #sort the data by distance_to_new\n",
    "    sorted_data =  training_data_copy.sort_values(['distance_to_new'])\n",
    "    #mean to get the average of the mpgs\n",
    "    return sorted_data.iloc[0:k]['mpg'].mean()\n",
    "\n",
    "def normalize_data(training_data):\n",
    "    #make a cpoy of the data\n",
    "    training_data_copy = fill_na_values(training_data)\n",
    "    \n",
    "    features = ['cylinders', 'displacement', 'horsepower', 'weight', 'acceleration','model year', 'origin']\n",
    "    for f in features:\n",
    "        training_data_copy[f] = (training_data_copy[f]-training_data_copy[f].mean())/training_data_copy[f].std()\n",
    "\n",
    "    return training_data_copy\n",
    "\n",
    "def classify_all_kNN(test_data, training_data, k):\n",
    "    #apply the classify_kNN function to each item in the test data with the training data\n",
    "    #data and k passed as the other two arguments.  the result will be a series of the individual results\n",
    "    return test_data.apply(classify_kNN, args=(training_data, k), axis=1)\n",
    "\n",
    "#R-Squared accuracy\n",
    "def accuracy(actual, predicted):\n",
    "    #weight\n",
    "    dif_sqr = (actual - predicted)**2\n",
    "    ss_res = dif_sqr.sum()\n",
    "    \n",
    "    actual_avg = actual.mean()\n",
    "    \n",
    "    dif_from_mean_sqr = (actual - actual_avg)**2\n",
    "    ss_tot = dif_from_mean_sqr.sum() \n",
    "    \n",
    "    r_sqr = 1-(ss_res/ss_tot)\n",
    "    return r_sqr"
   ]
  },
  {
   "cell_type": "code",
   "execution_count": 8,
   "metadata": {},
   "outputs": [
    {
     "name": "stdout",
     "output_type": "stream",
     "text": [
      "0.5954578982799192\n",
      "0.8737749004006663\n"
     ]
    }
   ],
   "source": [
    "#shuffle the data - \"sammpling\" the full set in random order\n",
    "shuffled_data = data.sample(frac=1)\n",
    "shuffled_data_copy = shuffled_data.copy()\n",
    "normal_shuffled_data = normalize_data(shuffled_data_copy)\n",
    "\n",
    "#use the first 40 rows in the shuffled set as testing data\n",
    "#train with the rest\n",
    "test_data = shuffled_data.iloc[1:40]\n",
    "training_data = shuffled_data.iloc[40:]\n",
    "\n",
    "normal_test_data = normal_shuffled_data.iloc[1:40]\n",
    "normal_training_data = normal_shuffled_data.iloc[40:]\n",
    "\n",
    "predictions5NN = classify_all_kNN(test_data, training_data, 5)\n",
    "#print(test_data['mpg'])\n",
    "#print(predictions5NN)\n",
    "print(accuracy(test_data['mpg'],predictions5NN))\n",
    "\n",
    "normal_predictions5NN = classify_all_kNN(normal_test_data, normal_training_data, 5)\n",
    "#print(normal_test_data['mpg'])\n",
    "#print(normal_predictions5NN)\n",
    "print(accuracy(normal_test_data['mpg'],normal_predictions5NN))"
   ]
  },
  {
   "cell_type": "code",
   "execution_count": 5,
   "metadata": {
    "scrolled": false
   },
   "outputs": [
    {
     "data": {
      "image/png": "[encoded data removed]",
      "text/plain": [
       "<matplotlib.figure.Figure at 0x1c843e39240>"
      ]
     },
     "metadata": {},
     "output_type": "display_data"
    }
   ],
   "source": [
    "import matplotlib.pyplot as plt\n",
    "%matplotlib inline\n",
    "\n",
    "#reload the data\n",
    "data = pandas.read_csv('autoMpg.csv')\n",
    "data_for_normalization = pandas.read_csv('autoMpg.csv')\n",
    "\n",
    "shuffled_data = data.sample(frac=1)\n",
    "normal_shuffled_data = normalize_data(data_for_normalization).sample(frac=1)\n",
    "\n",
    "test_data = shuffled_data.iloc[0:40]\n",
    "training_data = shuffled_data.iloc[40:]\n",
    "normal_test_data = normal_shuffled_data.iloc[0:40]\n",
    "normal_training_data = normal_shuffled_data.iloc[40:]\n",
    "\n",
    "\n",
    "k_vals = [1,3,5,9,15,21,31,51,101,129,151,223,293,347]\n",
    "kNN_accuracies = []\n",
    "normal_kNN_accuracies = []\n",
    "\n",
    "for k in k_vals:\n",
    "    predictions = classify_all_kNN(test_data,training_data,k)\n",
    "    current_accuracy = accuracy(test_data['mpg'],predictions)\n",
    "    kNN_accuracies.append(current_accuracy)\n",
    "    \n",
    "    normal_predictions = classify_all_kNN(normal_test_data,normal_training_data,k)\n",
    "    normal_current_accuracy = accuracy(normal_test_data['mpg'],normal_predictions)\n",
    "    normal_kNN_accuracies.append(normal_current_accuracy)\n",
    "\n",
    "plt.suptitle('Auto MPG data k-NN Experiment',fontsize=18)\n",
    "plt.xlabel('k')\n",
    "plt.ylabel('accuracy')\n",
    "plt.plot(k_vals,kNN_accuracies,'ro-',label='k-NN')\n",
    "plt.plot(k_vals,normal_kNN_accuracies,'bs-',label='normal k-NN')\n",
    "plt.legend(loc='lower left', shadow=True)\n",
    "plt.axis([0,360,0,1])\n",
    "\n",
    "plt.show()"
   ]
  },
  {
   "cell_type": "code",
   "execution_count": null,
   "metadata": {
    "collapsed": true
   },
   "outputs": [],
   "source": []
  }
 ],
 "metadata": {
  "kernelspec": {
   "display_name": "Python 3",
   "language": "python",
   "name": "python3"
  },
  "language_info": {
   "codemirror_mode": {
    "name": "ipython",
    "version": 3
   },
   "file_extension": ".py",
   "mimetype": "text/x-python",
   "name": "python",
   "nbconvert_exporter": "python",
   "pygments_lexer": "ipython3",
   "version": "3.6.1"
  }
 },
 "nbformat": 4,
 "nbformat_minor": 2
}

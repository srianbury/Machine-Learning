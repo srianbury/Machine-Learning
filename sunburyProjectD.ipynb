{
 "cells": [
  {
   "cell_type": "code",
   "execution_count": 1,
   "metadata": {
    "collapsed": true
   },
   "outputs": [],
   "source": [
    "import nltk\n",
    "import pandas\n",
    "from bs4 import BeautifulSoup as bs\n",
    "import re\n",
    "from nltk.corpus import stopwords\n",
    "from sklearn.feature_extraction.text import CountVectorizer\n",
    "from sklearn.naive_bayes import MultinomialNB\n",
    "from sklearn.model_selection import train_test_split\n",
    "from sklearn.metrics import accuracy_score\n",
    "from sklearn.svm import SVC\n",
    "from sklearn.decomposition import PCA\n",
    "from sklearn.naive_bayes import GaussianNB\n",
    "from sklearn.model_selection import GridSearchCV\n",
    "from sklearn import metrics"
   ]
  },
  {
   "cell_type": "code",
   "execution_count": null,
   "metadata": {
    "collapsed": true
   },
   "outputs": [],
   "source": [
    "'''\n",
    "Points Headings:\n",
    "    Explanation of the data\n",
    "    Preparing the data\n",
    "    Models\n",
    "    Result Interpretation\n",
    "'''"
   ]
  },
  {
   "cell_type": "markdown",
   "metadata": {},
   "source": [
    "# Explanation of the data"
   ]
  },
  {
   "cell_type": "markdown",
   "metadata": {},
   "source": [
    "This dataset was downloaded from kaggle.com (https://www.kaggle.com/crowdflower/twitter-airline-sentiment/data).  The dataset contains a list of tweets directed at airlines, whether the tweet was negative, positive, or neutral, and other various attributes.  In order to gather the tweets, Twitter was scraped and contributors were asked to classify the tweet as negative, neutral, or positive, as well as give an explanation for any negative tweets.  A subset of this data was used for this project.  The data was reduced to the positive/negative/neutral column, and the text of the tweet.  In total, there are 14640 tweets.  This project is a classification problem. I am going to try to predict whether a tweet directed at an airline was negative, positive, or neutral. "
   ]
  },
  {
   "cell_type": "code",
   "execution_count": 3,
   "metadata": {
    "collapsed": true,
    "scrolled": true
   },
   "outputs": [],
   "source": [
    "data = pandas.read_csv(\"Tweets.csv\")"
   ]
  },
  {
   "cell_type": "code",
   "execution_count": 4,
   "metadata": {},
   "outputs": [
    {
     "data": {
      "text/html": [
       "<div>\n",
       "<style>\n",
       "    .dataframe thead tr:only-child th {\n",
       "        text-align: right;\n",
       "    }\n",
       "\n",
       "    .dataframe thead th {\n",
       "        text-align: left;\n",
       "    }\n",
       "\n",
       "    .dataframe tbody tr th {\n",
       "        vertical-align: top;\n",
       "    }\n",
       "</style>\n",
       "<table border=\"1\" class=\"dataframe\">\n",
       "  <thead>\n",
       "    <tr style=\"text-align: right;\">\n",
       "      <th></th>\n",
       "      <th>airline_sentiment</th>\n",
       "      <th>text</th>\n",
       "    </tr>\n",
       "  </thead>\n",
       "  <tbody>\n",
       "    <tr>\n",
       "      <th>0</th>\n",
       "      <td>neutral</td>\n",
       "      <td>@VirginAmerica What @dhepburn said.</td>\n",
       "    </tr>\n",
       "    <tr>\n",
       "      <th>1</th>\n",
       "      <td>positive</td>\n",
       "      <td>@VirginAmerica plus you've added commercials t...</td>\n",
       "    </tr>\n",
       "    <tr>\n",
       "      <th>2</th>\n",
       "      <td>neutral</td>\n",
       "      <td>@VirginAmerica I didn't today... Must mean I n...</td>\n",
       "    </tr>\n",
       "    <tr>\n",
       "      <th>3</th>\n",
       "      <td>negative</td>\n",
       "      <td>@VirginAmerica it's really aggressive to blast...</td>\n",
       "    </tr>\n",
       "    <tr>\n",
       "      <th>4</th>\n",
       "      <td>negative</td>\n",
       "      <td>@VirginAmerica and it's a really big bad thing...</td>\n",
       "    </tr>\n",
       "  </tbody>\n",
       "</table>\n",
       "</div>"
      ],
      "text/plain": [
       "  airline_sentiment                                               text\n",
       "0           neutral                @VirginAmerica What @dhepburn said.\n",
       "1          positive  @VirginAmerica plus you've added commercials t...\n",
       "2           neutral  @VirginAmerica I didn't today... Must mean I n...\n",
       "3          negative  @VirginAmerica it's really aggressive to blast...\n",
       "4          negative  @VirginAmerica and it's a really big bad thing..."
      ]
     },
     "execution_count": 4,
     "metadata": {},
     "output_type": "execute_result"
    }
   ],
   "source": [
    "#here is what the data looks like\n",
    "data = data[['airline_sentiment', 'text']] # use a subset of the data\n",
    "data.head() #show what the subset data set we are going to use looks like"
   ]
  },
  {
   "cell_type": "code",
   "execution_count": 5,
   "metadata": {},
   "outputs": [
    {
     "data": {
      "text/plain": [
       "14640"
      ]
     },
     "execution_count": 5,
     "metadata": {},
     "output_type": "execute_result"
    }
   ],
   "source": [
    "#show how much data we have\n",
    "len(data) "
   ]
  },
  {
   "cell_type": "code",
   "execution_count": 6,
   "metadata": {},
   "outputs": [
    {
     "name": "stdout",
     "output_type": "stream",
     "text": [
      "Number of positive tweets: 2363\n",
      "Number of negative tweets: 9178\n",
      "Number of neutral tweets: 3099\n"
     ]
    }
   ],
   "source": [
    "#show how much positive, negative, and neutral data we have\n",
    "positive_data = data[data.airline_sentiment=='positive']\n",
    "negative_data = data[data.airline_sentiment=='negative']\n",
    "neutral_data = data[data.airline_sentiment=='neutral']\n",
    "\n",
    "print(\"Number of positive tweets:\", len(positive_data))\n",
    "print(\"Number of negative tweets:\", len(negative_data))\n",
    "print(\"Number of neutral tweets:\", len(neutral_data))"
   ]
  },
  {
   "cell_type": "code",
   "execution_count": 7,
   "metadata": {},
   "outputs": [
    {
     "name": "stdout",
     "output_type": "stream",
     "text": [
      "@VirginAmerica This is such a great deal! Already thinking about my 2nd trip to @Australia &amp; I haven't even gone on my 1st trip yet! ;p\n"
     ]
    }
   ],
   "source": [
    "#an example of a tweet's text\n",
    "print(data['text'][12])"
   ]
  },
  {
   "cell_type": "markdown",
   "metadata": {},
   "source": [
    "# Preparing the data"
   ]
  },
  {
   "cell_type": "markdown",
   "metadata": {},
   "source": [
    "First, we took a subset of the data that consisted of only the sentiment analysis attribute and text attribute.  I only wanted to do a text analysis so I only used these two features.  Next, all of the words that started with @ were removed from the tweet.  The @s were attached to the airline and I thought the airline could have an impact on the analysis of the tweet.  For example, if American Airlines received lots of positive tweets, the model might assume that a new tweet containing @AmericanAir is positive just because it has their twitter handle in the text.  Next, I replaced all characters that were not a letter or an apostrophe with a space.  This would allow words like can’t and don’t to be stored, but delete all other punctuation.  Next, all letters were converted to lower case.  This will ensure that same words with difference upper and lower casing are treated the same. Lastly, all stopwords, or words that don’t carry much meaning were removed from the text.  This ensures that the text we are using holds meaning, and we don’t have to look at words that wouldn’t add much benefit to our classification decision."
   ]
  },
  {
   "cell_type": "markdown",
   "metadata": {},
   "source": [
    "# Functions and variable setups"
   ]
  },
  {
   "cell_type": "code",
   "execution_count": 8,
   "metadata": {
    "collapsed": true
   },
   "outputs": [],
   "source": [
    "#function to remove @words, remove unwanted characters and convert all letters to lower case\n",
    "def clean_text(tweet):\n",
    "    tweet_words_wo_stopwords = []\n",
    "    tweet_no_at = ' '.join(filter(lambda word:word[0]!='@', tweet.split())) #filter out words that start with @\n",
    "    tweet_limited_characters = re.sub(\"[^a-z'A-Z]\", \" \", tweet_no_at) #substitute any character that isnt a-z or A-Z with \" \"\n",
    "    all_lower = tweet_limited_characters.lower() #make all words lowercase\n",
    "    list_of_words =  all_lower.split() #turn the string into a list of words\n",
    "    for word in list_of_words:\n",
    "        if word not in stopwords.words(\"english\"):\n",
    "            tweet_words_wo_stopwords.append(word)\n",
    "    clean_tweet = \" \".join(tweet_words_wo_stopwords)\n",
    "    return clean_tweet"
   ]
  },
  {
   "cell_type": "code",
   "execution_count": 9,
   "metadata": {
    "collapsed": true
   },
   "outputs": [],
   "source": [
    "#a function to show accuracies in a clean way\n",
    "def clean_display(accuracy):\n",
    "    return round(accuracy*10000.00)/100.00"
   ]
  },
  {
   "cell_type": "code",
   "execution_count": 10,
   "metadata": {
    "collapsed": true
   },
   "outputs": [],
   "source": [
    "#the amount of reviews we will be using\n",
    "NUMBER_OF_REVIEWS = len(data)"
   ]
  },
  {
   "cell_type": "code",
   "execution_count": 11,
   "metadata": {
    "collapsed": true
   },
   "outputs": [],
   "source": [
    "#a list of cleaned tweets\n",
    "list_of_cleaned_tweets = []\n",
    "for index in range(len(data[\"text\"][:NUMBER_OF_REVIEWS])):\n",
    "    list_of_cleaned_tweets.append(clean_text(data[\"text\"][index]))"
   ]
  },
  {
   "cell_type": "code",
   "execution_count": 12,
   "metadata": {
    "collapsed": true
   },
   "outputs": [],
   "source": [
    "#split the data into training and testing sets\n",
    "(train_tweets, test_tweets, train_target, test_target) = \\\n",
    "train_test_split(list_of_cleaned_tweets, data[\"airline_sentiment\"][:NUMBER_OF_REVIEWS],\\\n",
    "test_size = 0.2)"
   ]
  },
  {
   "cell_type": "code",
   "execution_count": 13,
   "metadata": {
    "scrolled": true
   },
   "outputs": [
    {
     "name": "stdout",
     "output_type": "stream",
     "text": [
      "['aa', 'able', 'account', 'actually', 'add', 'agent', 'agents', 'ago', 'air', 'airline', 'airlines', 'airport', 'airways', 'almost', 'already', 'also', 'always', 'amazing', 'american', 'amp', 'another', 'answer', 'anyone', 'anything', 'app', 'appreciate', 'around', 'arrive', 'arrived', 'ask', 'asked', 'assistance', 'attendant', 'attendants', 'available', 'away', 'awesome', 'awful', 'back', 'bad', 'bag', 'baggage', 'bags', 'bc', 'believe', 'best', 'better', 'big', 'board', 'boarding', 'book', 'booked', 'booking', 'bos', 'boston', 'bring', 'broken', 'business', 'bwi', 'call', 'called', 'calling', 'calls', 'can', 'cancelled', 'cannot', 'car', 'card', 'care', 'carry', 'chance', 'change', 'changed', 'changes', 'charge', 'charlotte', 'check', 'checked', 'checking', 'chicago', 'claim', 'class', 'clt', 'club', 'co', 'come', 'coming', 'company', 'confirmation', 'connecting', 'connection', 'contact', 'cool', 'cost', 'could', 'couldn', 'credit', 'crew', 'cust', 'customer', 'customers', 'dallas', 'day', 'days', 'dc', 'dca', 'deal', 'delay', 'delayed', 'delays', 'den', 'denver', 'departure', 'desk', 'destination', 'destinationdragons', 'dfw', 'didn', 'different', 'direct', 'disappointed', 'dm', 'doesn', 'don', 'done', 'due', 'earlier', 'early', 'else', 'email', 'employees', 'end', 'enough', 'even', 'ever', 'every', 'everyone', 'everything', 'ewr', 'expect', 'experience', 'extra', 'fail', 'family', 'far', 'fee', 'feel', 'finally', 'find', 'first', 'fix', 'fleek', 'fleet', 'flight', 'flighted', 'flightled', 'flightr', 'flights', 'fll', 'flt', 'fly', 'flying', 'follow', 'food', 'forward', 'found', 'free', 'friend', 'frustrated', 'frustrating', 'full', 'gate', 'gave', 'get', 'getting', 'give', 'given', 'glad', 'go', 'going', 'good', 'got', 'great', 'ground', 'gt', 'guess', 'guys', 'half', 'happened', 'happy', 'hard', 'haven', 'hear', 'heard', 'help', 'helpful', 'hey', 'hi', 'hold', 'home', 'hope', 'hoping', 'horrible', 'hotel', 'hour', 'hours', 'houston', 'hr', 'hrs', 'http', 'https', 'hung', 'iad', 'iah', 'idea', 'im', 'info', 'information', 'instead', 'isn', 'issue', 'issues', 'it', 'jet', 'jetblue', 'jfk', 'job', 'keep', 'kids', 'know', 'lack', 'landed', 'landing', 'las', 'last', 'late', 'lax', 'least', 'leave', 'leaving', 'left', 'less', 'let', 'lga', 'life', 'like', 'line', 'link', 'little', 'll', 'lol', 'long', 'longer', 'look', 'looking', 'looks', 'lost', 'lot', 'love', 'loyal', 'luggage', 'made', 'maintenance', 'make', 'makes', 'making', 'many', 'may', 'maybe', 'mean', 'mechanical', 'member', 'message', 'miami', 'might', 'miles', 'min', 'mins', 'minute', 'minutes', 'miss', 'missed', 'missing', 'monday', 'money', 'morning', 'much', 'name', 'nd', 'need', 'needs', 'never', 'new', 'newark', 'next', 'nice', 'night', 'non', 'nothing', 'number', 'nyc', 'offer', 'oh', 'ok', 'old', 'one', 'online', 'open', 'option', 'options', 'ord', 'paid', 'pass', 'passengers', 'past', 'pay', 'people', 'person', 'philly', 'phl', 'phone', 'phx', 'pick', 'pilot', 'plane', 'planes', 'please', 'pls', 'plus', 'pm', 'point', 'points', 'policy', 'poor', 'possible', 'problem', 'problems', 'put', 'question', 're', 'real', 'really', 'reason', 'rebook', 'rebooked', 'received', 'reflight', 'refund', 'rep', 'reply', 'request', 'reservation', 'reservations', 'response', 'return', 'ridiculous', 'right', 'room', 'row', 'rt', 'rude', 'runway', 'said', 'san', 'sat', 'say', 'saying', 'says', 'scheduled', 'seat', 'seats', 'second', 'see', 'seems', 'send', 'sent', 'seriously', 'service', 'sfo', 'show', 'since', 'sit', 'site', 'sitting', 'snow', 'someone', 'something', 'soon', 'sorry', 'southwest', 'speak', 'st', 'staff', 'start', 'status', 'stay', 'still', 'stop', 'stranded', 'stuck', 'sucks', 'supposed', 'sure', 'sw', 'swa', 'system', 'take', 'taking', 'talk', 'tarmac', 'team', 'tell', 'telling', 'terminal', 'terrible', 'th', 'thank', 'thanks', 'that', 'there', 'they', 'thing', 'things', 'think', 'though', 'thought', 'three', 'thru', 'thx', 'ticket', 'tickets', 'time', 'times', 'today', 'together', 'told', 'tomorrow', 'tonight', 'took', 'travel', 'traveling', 'tried', 'trip', 'try', 'trying', 'tweet', 'twice', 'twitter', 'two', 'ua', 'unacceptable', 'understand', 'united', 'update', 'upgrade', 'ur', 'us', 'usairways', 'use', 'used', 'using', 'vacation', 've', 'vegas', 'via', 'voucher', 'wait', 'waited', 'waiting', 'want', 'wanted', 'wasn', 'way', 'we', 'weather', 'website', 'week', 'weeks', 'well', 'went', 'what', 'wife', 'wifi', 'wish', 'without', 'won', 'work', 'working', 'world', 'worse', 'worst', 'would', 'wouldn', 'wow', 'wrong', 'year', 'yes', 'yesterday', 'yet', 'you']\n"
     ]
    }
   ],
   "source": [
    "#bag of words with 500 most common words\n",
    "vectorizer500 = CountVectorizer(analyzer='word', max_features = 500)\n",
    "#find the right 5000 words\n",
    "vectorizer500.fit(train_tweets)\n",
    "#look at which words it found\n",
    "print(vectorizer500.get_feature_names())"
   ]
  },
  {
   "cell_type": "code",
   "execution_count": 14,
   "metadata": {},
   "outputs": [
    {
     "name": "stdout",
     "output_type": "stream",
     "text": [
      "[[0 0 0 ..., 0 0 0]\n",
      " [0 0 0 ..., 0 0 0]\n",
      " [0 0 0 ..., 0 0 0]\n",
      " ..., \n",
      " [0 0 0 ..., 0 0 0]\n",
      " [0 0 1 ..., 0 0 0]\n",
      " [0 0 0 ..., 0 0 0]]\n"
     ]
    }
   ],
   "source": [
    "#transform tweet strings into the rows of word counts\n",
    "#also convert it to a numpy array so we can later feed it to a machine learning algorithm\n",
    "train_word_columns500 = vectorizer500.transform(train_tweets).toarray()\n",
    "test_word_columns500 = vectorizer500.transform(test_tweets).toarray()\n",
    "\n",
    "#look at what train_words_columns looks like\n",
    "print(train_word_columns500)"
   ]
  },
  {
   "cell_type": "code",
   "execution_count": 15,
   "metadata": {},
   "outputs": [
    {
     "name": "stdout",
     "output_type": "stream",
     "text": [
      "this is the variance/importance of each component\n",
      "[  4.87316755e-02   2.63982742e-02   1.67329719e-02   1.60954420e-02\n",
      "   1.41804085e-02   1.18745865e-02   1.08698241e-02   1.04236131e-02\n",
      "   9.57117228e-03   9.37541504e-03   9.25011762e-03   8.23740309e-03\n",
      "   7.86231407e-03   7.79872740e-03   7.33839365e-03   7.31794637e-03\n",
      "   7.10610371e-03   6.93767211e-03   6.77261905e-03   6.74869655e-03\n",
      "   6.63140079e-03   6.50899876e-03   6.42302532e-03   6.35025163e-03\n",
      "   6.13901808e-03   5.99194209e-03   5.83378739e-03   5.73755882e-03\n",
      "   5.52684883e-03   5.40521432e-03   5.25555833e-03   5.18279560e-03\n",
      "   5.05320381e-03   4.98792635e-03   4.87675604e-03   4.77167458e-03\n",
      "   4.66901472e-03   4.64209324e-03   4.55186109e-03   4.49144040e-03\n",
      "   4.44602135e-03   4.37764694e-03   4.30986883e-03   4.28362399e-03\n",
      "   4.20182179e-03   4.17239774e-03   4.12275570e-03   4.10314982e-03\n",
      "   4.07303101e-03   4.03276568e-03   3.96087652e-03   3.94353556e-03\n",
      "   3.86607875e-03   3.83539032e-03   3.81484387e-03   3.78733253e-03\n",
      "   3.74032775e-03   3.70649443e-03   3.69239556e-03   3.65088129e-03\n",
      "   3.62636695e-03   3.58531066e-03   3.56724692e-03   3.52106663e-03\n",
      "   3.50873633e-03   3.47953771e-03   3.45478623e-03   3.43719965e-03\n",
      "   3.40835878e-03   3.38702192e-03   3.37825082e-03   3.34846491e-03\n",
      "   3.32091138e-03   3.29826386e-03   3.28918852e-03   3.20798181e-03\n",
      "   3.20123660e-03   3.14335705e-03   3.13587532e-03   3.09717195e-03\n",
      "   3.06399397e-03   3.05864317e-03   3.03287648e-03   2.97924093e-03\n",
      "   2.91011264e-03   2.90326466e-03   2.87191343e-03   2.85316502e-03\n",
      "   2.82875851e-03   2.80378296e-03   2.78596728e-03   2.75004690e-03\n",
      "   2.73153623e-03   2.72328836e-03   2.71560320e-03   2.68771935e-03\n",
      "   2.66694298e-03   2.66055601e-03   2.62746026e-03   2.61190433e-03\n",
      "   2.58630489e-03   2.57074228e-03   2.55361985e-03   2.54878468e-03\n",
      "   2.53248103e-03   2.50206340e-03   2.49757395e-03   2.47563314e-03\n",
      "   2.45083954e-03   2.42487868e-03   2.37442495e-03   2.36259864e-03\n",
      "   2.32538662e-03   2.31900201e-03   2.28621977e-03   2.27819092e-03\n",
      "   2.25621816e-03   2.25241608e-03   2.24264489e-03   2.23208770e-03\n",
      "   2.21146804e-03   2.20881401e-03   2.19085471e-03   2.16979745e-03\n",
      "   2.15845357e-03   2.15378305e-03   2.12227098e-03   2.10841165e-03\n",
      "   2.10494300e-03   2.08859350e-03   2.08099539e-03   2.07109377e-03\n",
      "   2.05332668e-03   2.03633381e-03   2.03130279e-03   2.01548082e-03\n",
      "   2.00115428e-03   1.99897079e-03   1.98561802e-03   1.95479377e-03\n",
      "   1.94831675e-03   1.94324369e-03   1.93945349e-03   1.91638198e-03\n",
      "   1.91279376e-03   1.90391697e-03   1.89841949e-03   1.87550051e-03\n",
      "   1.87338281e-03   1.85895812e-03   1.84103124e-03   1.83497315e-03\n",
      "   1.82558874e-03   1.82021180e-03   1.79668069e-03   1.78980811e-03\n",
      "   1.78416753e-03   1.77791818e-03   1.75727624e-03   1.75210735e-03\n",
      "   1.74515076e-03   1.73271698e-03   1.72814048e-03   1.72052688e-03\n",
      "   1.71250726e-03   1.69471570e-03   1.68989129e-03   1.67534354e-03\n",
      "   1.66782897e-03   1.66218475e-03   1.65167137e-03   1.64419574e-03\n",
      "   1.63451347e-03   1.62453519e-03   1.61409341e-03   1.60727013e-03\n",
      "   1.60388872e-03   1.58215931e-03   1.57670566e-03   1.56543932e-03\n",
      "   1.56202923e-03   1.55754702e-03   1.54290539e-03   1.53627968e-03\n",
      "   1.52496637e-03   1.51940423e-03   1.50949585e-03   1.50314662e-03\n",
      "   1.49942484e-03   1.49088849e-03   1.47517503e-03   1.46245936e-03\n",
      "   1.45888834e-03   1.44841059e-03   1.44322347e-03   1.44074926e-03\n",
      "   1.42846848e-03   1.41899942e-03   1.41368270e-03   1.40805747e-03\n",
      "   1.39764347e-03   1.39080825e-03   1.37948954e-03   1.37481476e-03\n",
      "   1.36719452e-03   1.35898587e-03   1.35532940e-03   1.34365469e-03\n",
      "   1.33626407e-03   1.33276914e-03   1.32663066e-03   1.32233110e-03\n",
      "   1.31386329e-03   1.30634044e-03   1.29820481e-03   1.29237792e-03\n",
      "   1.28659050e-03   1.28153623e-03   1.27184072e-03   1.26552507e-03\n",
      "   1.26404417e-03   1.25842759e-03   1.25368893e-03   1.25140261e-03\n",
      "   1.24188039e-03   1.23116299e-03   1.22642216e-03   1.21819249e-03\n",
      "   1.21471033e-03   1.21216671e-03   1.20987157e-03   1.20462601e-03\n",
      "   1.19721337e-03   1.18805075e-03   1.18747540e-03   1.18258767e-03\n",
      "   1.17601868e-03   1.16914542e-03   1.16665899e-03   1.16296215e-03\n",
      "   1.15545327e-03   1.15493211e-03   1.15149129e-03   1.14930248e-03\n",
      "   1.14497926e-03   1.13891478e-03   1.13276034e-03   1.12803737e-03\n",
      "   1.12521012e-03   1.11737859e-03   1.11585267e-03   1.11306884e-03\n",
      "   1.11093415e-03   1.10383493e-03   1.10175297e-03   1.09456555e-03\n",
      "   1.09050938e-03   1.08709610e-03   1.07710795e-03   1.07282155e-03\n",
      "   1.07050531e-03   1.06857007e-03   1.06602908e-03   1.06202853e-03\n",
      "   1.05882852e-03   1.05704771e-03   1.04942490e-03   1.04851667e-03\n",
      "   1.04706041e-03   1.04357130e-03   1.03809817e-03   1.03330120e-03\n",
      "   1.03149218e-03   1.02771074e-03   1.02333331e-03   1.02131538e-03\n",
      "   1.01841085e-03   1.01265910e-03   1.00880779e-03   1.00677208e-03\n",
      "   1.00463246e-03   9.97869728e-04   9.96538228e-04   9.92355529e-04\n",
      "   9.87810842e-04   9.81383926e-04   9.78577755e-04   9.75883181e-04\n",
      "   9.71679696e-04   9.70190067e-04   9.67490344e-04   9.66620864e-04\n",
      "   9.64541974e-04   9.61189546e-04   9.57848904e-04   9.54534820e-04\n",
      "   9.49851182e-04   9.46120602e-04   9.43074437e-04   9.38718208e-04\n",
      "   9.35344653e-04   9.33062893e-04   9.30974553e-04   9.27991268e-04\n",
      "   9.27580262e-04   9.23075728e-04   9.21166534e-04   9.17335972e-04\n",
      "   9.15854389e-04   9.05174933e-04   9.04976714e-04   9.02449081e-04\n",
      "   8.99664212e-04   8.95267240e-04   8.94154035e-04   8.89314521e-04\n",
      "   8.87332626e-04   8.84796093e-04   8.82720784e-04   8.78384554e-04\n",
      "   8.75141567e-04   8.73544879e-04   8.70792317e-04   8.69364919e-04\n",
      "   8.64443899e-04   8.61290399e-04   8.60312456e-04   8.58058007e-04\n",
      "   8.56104128e-04   8.50714028e-04   8.46142102e-04   8.44904116e-04\n",
      "   8.42522227e-04   8.38599118e-04   8.36961469e-04   8.36127195e-04\n",
      "   8.29924301e-04   8.29354789e-04   8.25378891e-04   8.23902503e-04\n",
      "   8.20106542e-04   8.19143901e-04   8.12437250e-04   8.10490360e-04\n",
      "   8.08584686e-04   8.05296370e-04   8.03374110e-04   8.01210360e-04\n",
      "   7.97802647e-04   7.96752049e-04   7.94625924e-04   7.91294531e-04\n",
      "   7.86501591e-04   7.83819958e-04   7.81963813e-04   7.77514044e-04\n",
      "   7.74170306e-04   7.72733785e-04   7.71711982e-04   7.68542062e-04\n",
      "   7.64322057e-04   7.61324563e-04   7.58505161e-04   7.57869337e-04\n",
      "   7.54826586e-04   7.51798058e-04   7.50681802e-04   7.49820611e-04\n",
      "   7.43188144e-04   7.40797171e-04   7.38124984e-04   7.36397297e-04\n",
      "   7.33368451e-04   7.31292331e-04   7.30363825e-04   7.29282555e-04\n",
      "   7.27411504e-04   7.24340787e-04   7.19481103e-04   7.18123284e-04\n",
      "   7.13317456e-04   7.12755828e-04   7.11380539e-04   7.07629097e-04\n",
      "   7.05864704e-04   7.02671893e-04   7.00869330e-04   6.98907521e-04\n",
      "   6.97341472e-04   6.95397841e-04   6.93949951e-04   6.91486325e-04\n",
      "   6.88949415e-04   6.86774730e-04   6.84491728e-04   6.83390464e-04\n",
      "   6.81253959e-04   6.76917003e-04   6.76441682e-04   6.72005289e-04\n",
      "   6.70287050e-04   6.67584193e-04   6.62447445e-04   6.62184486e-04\n",
      "   6.58657550e-04   6.57321949e-04   6.55715281e-04   6.54151722e-04\n",
      "   6.50601545e-04   6.47556184e-04   6.44461801e-04   6.44046382e-04\n",
      "   6.42673795e-04   6.39700103e-04   6.37561393e-04   6.34427658e-04\n",
      "   6.32375158e-04   6.31493793e-04   6.29738811e-04   6.27636082e-04\n",
      "   6.25640425e-04   6.22383884e-04   6.21406591e-04   6.18998270e-04\n",
      "   6.17152431e-04   6.14942319e-04   6.13857518e-04   6.09293997e-04\n",
      "   6.07164332e-04   6.03922363e-04   6.03661735e-04   6.01941962e-04\n",
      "   6.01056249e-04   5.95677532e-04   5.93250490e-04   5.90785177e-04\n",
      "   5.90162819e-04   5.88237608e-04   5.86487932e-04   5.83429225e-04\n",
      "   5.83187522e-04   5.80907447e-04   5.78536896e-04   5.76288649e-04\n",
      "   5.74431975e-04   5.72275288e-04   5.68350824e-04   5.67960163e-04\n",
      "   5.64828379e-04   5.63607242e-04   5.63089857e-04   5.59237624e-04\n",
      "   5.56804663e-04   5.55546731e-04   5.53576503e-04   5.50658251e-04\n",
      "   5.49296517e-04   5.46967944e-04   5.43704162e-04   5.40645164e-04\n",
      "   5.39112977e-04   5.37936173e-04   5.35295643e-04   5.32696389e-04\n",
      "   5.31024916e-04   5.29242366e-04   5.27952121e-04   5.25265487e-04\n",
      "   5.22769835e-04   5.22405033e-04   5.17568746e-04   5.15912808e-04\n",
      "   5.13635426e-04   5.10858505e-04   5.07910514e-04   5.06738605e-04\n",
      "   5.03848594e-04   5.02793797e-04   5.02583230e-04   4.97882882e-04\n",
      "   4.96373531e-04   4.92875223e-04   4.90758442e-04   4.86921164e-04\n",
      "   4.85451730e-04   4.83397772e-04   4.79883703e-04   4.76256329e-04\n",
      "   4.75484999e-04   4.73502045e-04   4.67805277e-04   4.64196380e-04\n",
      "   4.57290408e-04   4.39516489e-04   4.09619946e-04   3.82391371e-04\n",
      "   3.68270552e-04   2.13461163e-04   7.32321782e-05   8.72198121e-06]\n"
     ]
    }
   ],
   "source": [
    "extractor500 = PCA(n_components=500, whiten=True)\n",
    "extractor500.fit(train_word_columns500)\n",
    "print('this is the variance/importance of each component')\n",
    "print(extractor500.explained_variance_ratio_)"
   ]
  },
  {
   "cell_type": "code",
   "execution_count": 16,
   "metadata": {},
   "outputs": [
    {
     "data": {
      "text/plain": [
       "array([[ -5.16127316e-01,  -2.74498771e-01,  -7.77085319e-02, ...,\n",
       "         -2.17455160e-02,   3.73753726e-02,   1.22784840e-01],\n",
       "       [ -4.10943112e-01,  -3.85781253e-01,  -4.59358881e-01, ...,\n",
       "          1.10732755e-01,   8.93409475e-04,   1.34748843e-01],\n",
       "       [  1.10659837e+00,  -3.03562872e-01,   3.56159497e+00, ...,\n",
       "          3.09317741e-01,   1.26712601e-02,  -4.60690043e-01],\n",
       "       ..., \n",
       "       [  1.22661538e+00,   5.20119201e-02,   2.84579746e-01, ...,\n",
       "          2.10474634e-01,   4.76521592e-02,   4.21748638e-02],\n",
       "       [ -5.12163459e-01,  -3.38137234e-01,  -1.52640992e-01, ...,\n",
       "         -2.57258178e-01,  -3.54102589e-02,   5.18832449e-02],\n",
       "       [  1.34486258e+00,  -2.04927116e-01,  -1.74084511e+00, ...,\n",
       "          8.90815828e-02,   5.64897283e-02,   1.69526540e-01]])"
      ]
     },
     "execution_count": 16,
     "metadata": {},
     "output_type": "execute_result"
    }
   ],
   "source": [
    "train_transformed500 = extractor500.transform(train_word_columns500)\n",
    "test_transformed500 = extractor500.transform(test_word_columns500)\n",
    "train_transformed500"
   ]
  },
  {
   "cell_type": "markdown",
   "metadata": {},
   "source": [
    "# Models"
   ]
  },
  {
   "cell_type": "markdown",
   "metadata": {},
   "source": [
    "Model 1 is a multinomial naive bayes model with default parameters.  It uses 500 of the most common words to interpret the text.  "
   ]
  },
  {
   "cell_type": "code",
   "execution_count": 17,
   "metadata": {},
   "outputs": [
    {
     "name": "stdout",
     "output_type": "stream",
     "text": [
      "73.19\n"
     ]
    }
   ],
   "source": [
    "#MODEL 1\n",
    "\n",
    "#Basic multinomial Naive Bayes\n",
    "multinomialNaiveBayes = MultinomialNB()\n",
    "multinomialNaiveBayes.fit(train_word_columns500, train_target)\n",
    "predictions1 = multinomialNaiveBayes.predict(test_word_columns500)\n",
    "print(clean_display(accuracy_score(predictions1, test_target))) "
   ]
  },
  {
   "cell_type": "markdown",
   "metadata": {},
   "source": [
    "Model 2 is a support vector machine/ support vector classifier.  It also uses 500 of the most common words to interpret the text."
   ]
  },
  {
   "cell_type": "code",
   "execution_count": 18,
   "metadata": {},
   "outputs": [
    {
     "name": "stdout",
     "output_type": "stream",
     "text": [
      "66.87\n"
     ]
    }
   ],
   "source": [
    "#MODEL 2\n",
    "\n",
    "#Basic SVM\n",
    "supportVectorClassifier = SVC()\n",
    "supportVectorClassifier.fit(train_word_columns500, train_target)\n",
    "predictions2 = supportVectorClassifier.predict(test_word_columns500)\n",
    "print(clean_display(accuracy_score(predictions2, test_target)))"
   ]
  },
  {
   "cell_type": "markdown",
   "metadata": {},
   "source": [
    "Model 3 is a gaussian naive bayes model thats uses data that has been transformed through PCA.  The PCA uses 500 components and uses the frequency of the 500 most common words to create a transformed array that we use to fit the model.  A gaussian model is used because the multinomial naive bayes model cannot handle the negative values in the transformed data.  "
   ]
  },
  {
   "cell_type": "code",
   "execution_count": 19,
   "metadata": {},
   "outputs": [
    {
     "name": "stdout",
     "output_type": "stream",
     "text": [
      "Accuracy: 58.13\n"
     ]
    }
   ],
   "source": [
    "#MODEL 3\n",
    "\n",
    "#Basic naive bayes with PCA\n",
    "#using Gaussian b/c there are negative values in the transformed data which multinomial cant handle\n",
    "gnb_pca = GaussianNB()\n",
    "gnb_pca.fit(train_transformed500, train_target)\n",
    "gnb_pca_predictions1 = gnb_pca.predict(test_transformed500)\n",
    "print('Accuracy:',clean_display(accuracy_score(gnb_pca_predictions1, test_target)))"
   ]
  },
  {
   "cell_type": "markdown",
   "metadata": {},
   "source": [
    "Model 4 is a SVM model thats uses data that has been transformed through PCA. The PCA uses 500 components and uses the frequency of the 500 most common words to create a transformed array that we use to fit the model."
   ]
  },
  {
   "cell_type": "code",
   "execution_count": 20,
   "metadata": {},
   "outputs": [
    {
     "name": "stdout",
     "output_type": "stream",
     "text": [
      "75.2\n"
     ]
    }
   ],
   "source": [
    "#MODEL 4\n",
    "\n",
    "#Basic SVM with PCA\n",
    "supportVectorClassifier_pca = SVC()\n",
    "supportVectorClassifier_pca.fit(train_transformed500, train_target)\n",
    "svm_pca_predictions1 = supportVectorClassifier_pca.predict(test_transformed500)\n",
    "print(clean_display(accuracy_score(svm_pca_predictions1, test_target)))"
   ]
  },
  {
   "cell_type": "markdown",
   "metadata": {},
   "source": [
    "# Additional Training"
   ]
  },
  {
   "cell_type": "markdown",
   "metadata": {},
   "source": [
    "Model 5 is the best SVM I could find.  I did a series of grid searches in order to find this model.  The grid searchs have been ommitted to increase the time to run the notebook because the time to run the notebook took too long when I needed to make changes.  C, gamma, and kernel were adjusted to find this model and the parameter tests cant be found at the bottom of the notebook.  This model does not use PCA, just the regular frequency array of the most common 500 words. "
   ]
  },
  {
   "cell_type": "code",
   "execution_count": 21,
   "metadata": {},
   "outputs": [
    {
     "name": "stdout",
     "output_type": "stream",
     "text": [
      "75.48\n"
     ]
    }
   ],
   "source": [
    "#MODEL 5\n",
    "\n",
    "#Better SVM model without PCA\n",
    "best_svc = SVC(C=1, cache_size=200, class_weight=None, coef0=0.0,\n",
    "  decision_function_shape='ovr', degree=3, gamma=0.1, kernel='rbf',\n",
    "  max_iter=-1, probability=False, random_state=None, shrinking=True,\n",
    "  tol=0.001, verbose=False)\n",
    "best_svc.fit(train_word_columns500, train_target)\n",
    "best_svc_predictions = best_svc.predict(test_word_columns500)\n",
    "print(clean_display(accuracy_score(best_svc_predictions, test_target)))"
   ]
  },
  {
   "cell_type": "markdown",
   "metadata": {},
   "source": [
    "This model is the same as the one above but uses PCA."
   ]
  },
  {
   "cell_type": "code",
   "execution_count": 22,
   "metadata": {},
   "outputs": [
    {
     "name": "stdout",
     "output_type": "stream",
     "text": [
      "67.01\n"
     ]
    }
   ],
   "source": [
    "#MODEL 6\n",
    "\n",
    "#SVM model with PCA\n",
    "supportVectorClassifier_pca = SVC(C=1, cache_size=200, class_weight=None, coef0=0.0,\n",
    "  decision_function_shape='ovr', degree=3, gamma=0.1, kernel='rbf',\n",
    "  max_iter=-1, probability=False, random_state=None, shrinking=True,\n",
    "  tol=0.001, verbose=False)\n",
    "supportVectorClassifier_pca.fit(train_transformed500, train_target)\n",
    "svm_pca_predictions500 = supportVectorClassifier_pca.predict(test_transformed500)\n",
    "print(clean_display(accuracy_score(svm_pca_predictions500, test_target)))"
   ]
  },
  {
   "cell_type": "markdown",
   "metadata": {},
   "source": [
    "The models below use a new bag of words that has 1000 words and the PCA uses 1000 components instead of the 500 we were using before."
   ]
  },
  {
   "cell_type": "code",
   "execution_count": 23,
   "metadata": {
    "scrolled": true
   },
   "outputs": [
    {
     "data": {
      "text/plain": [
       "CountVectorizer(analyzer='word', binary=False, decode_error='strict',\n",
       "        dtype=<class 'numpy.int64'>, encoding='utf-8', input='content',\n",
       "        lowercase=True, max_df=1.0, max_features=1000, min_df=1,\n",
       "        ngram_range=(1, 1), preprocessor=None, stop_words=None,\n",
       "        strip_accents=None, token_pattern='(?u)\\\\b\\\\w\\\\w+\\\\b',\n",
       "        tokenizer=None, vocabulary=None)"
      ]
     },
     "execution_count": 23,
     "metadata": {},
     "output_type": "execute_result"
    }
   ],
   "source": [
    "#going to use more words to see if it helps\n",
    "#bag of words with 1000 most common words\n",
    "vectorizer1000 = CountVectorizer(analyzer='word', max_features = 1000)\n",
    "#find the right 1000 words\n",
    "vectorizer1000.fit(train_tweets)\n",
    "#look at which words it found\n",
    "#print(vectorizer1000.get_feature_names())"
   ]
  },
  {
   "cell_type": "code",
   "execution_count": 24,
   "metadata": {
    "collapsed": true
   },
   "outputs": [],
   "source": [
    "#transform review strings into the rows of word counts\n",
    "#also convert it to a numpy array so we can later feed it to a machine learning algorithm\n",
    "train_word_columns1000 = vectorizer1000.transform(train_tweets).toarray()\n",
    "test_word_columns1000 = vectorizer1000.transform(test_tweets).toarray()\n",
    "\n",
    "#look at what train_words_columns looks like\n",
    "#print(train_word_columns1000)"
   ]
  },
  {
   "cell_type": "code",
   "execution_count": 25,
   "metadata": {},
   "outputs": [
    {
     "data": {
      "text/plain": [
       "PCA(copy=True, iterated_power='auto', n_components=1000, random_state=None,\n",
       "  svd_solver='auto', tol=0.0, whiten=True)"
      ]
     },
     "execution_count": 25,
     "metadata": {},
     "output_type": "execute_result"
    }
   ],
   "source": [
    "#an extractor with 1000 components, in the above models we used 500 components\n",
    "extractor1000 = PCA(n_components=1000, whiten=True)\n",
    "extractor1000.fit(train_word_columns1000)\n",
    "#print('this is the variance/importance of each component')\n",
    "#print(extractor1000.explained_variance_ratio_)"
   ]
  },
  {
   "cell_type": "code",
   "execution_count": 26,
   "metadata": {
    "collapsed": true
   },
   "outputs": [],
   "source": [
    "train_transformed1000 = extractor1000.transform(train_word_columns1000)\n",
    "test_transformed1000 = extractor1000.transform(test_word_columns1000)\n",
    "#train_transformed1000"
   ]
  },
  {
   "cell_type": "markdown",
   "metadata": {},
   "source": [
    "Model 7 is the same as model 1 but uses the new bag of words with 1000 words.  It does not use PCA."
   ]
  },
  {
   "cell_type": "code",
   "execution_count": 27,
   "metadata": {},
   "outputs": [
    {
     "name": "stdout",
     "output_type": "stream",
     "text": [
      "74.69\n"
     ]
    }
   ],
   "source": [
    "#MODEL 7\n",
    "\n",
    "#Basic multinomial Naive Bayes\n",
    "multinomialNaiveBayes1000 = MultinomialNB()\n",
    "multinomialNaiveBayes1000.fit(train_word_columns1000, train_target)\n",
    "mnb_predictions1000 = multinomialNaiveBayes1000.predict(test_word_columns1000)\n",
    "print(clean_display(accuracy_score(mnb_predictions1000, test_target))) "
   ]
  },
  {
   "cell_type": "markdown",
   "metadata": {},
   "source": [
    "Model 8 uses the gaussian naive bayes with the new bag of words and the new PCA with 1000 components"
   ]
  },
  {
   "cell_type": "code",
   "execution_count": 28,
   "metadata": {},
   "outputs": [
    {
     "name": "stdout",
     "output_type": "stream",
     "text": [
      "Accuracy: 58.13\n"
     ]
    }
   ],
   "source": [
    "#MODEL 8\n",
    "\n",
    "#Basic naive bayes with PCA\n",
    "#using Gaussian b/c there are negative values in the transformed data which multinomial cant handle\n",
    "gnb_pca1000 = GaussianNB()\n",
    "gnb_pca1000.fit(train_transformed1000, train_target)\n",
    "gnb_pca_predictions1000 = gnb_pca1000.predict(test_transformed1000)\n",
    "print('Accuracy:',clean_display(accuracy_score(gnb_pca_predictions1000, test_target)))"
   ]
  },
  {
   "cell_type": "markdown",
   "metadata": {},
   "source": [
    "Model 9 is a SVM that uses the new PCA with 1000 components."
   ]
  },
  {
   "cell_type": "code",
   "execution_count": 29,
   "metadata": {},
   "outputs": [
    {
     "name": "stdout",
     "output_type": "stream",
     "text": [
      "75.41\n"
     ]
    }
   ],
   "source": [
    "#MODEL 9\n",
    "\n",
    "#Basic SVM with PCA\n",
    "supportVectorClassifier_pca1000 = SVC()\n",
    "supportVectorClassifier_pca1000.fit(train_transformed1000, train_target)\n",
    "svm_pca_predictions1000 = supportVectorClassifier_pca1000.predict(test_transformed1000)\n",
    "print(clean_display(accuracy_score(svm_pca_predictions1000, test_target)))"
   ]
  },
  {
   "cell_type": "markdown",
   "metadata": {},
   "source": [
    "Model 10 is the best SVM model again but with the new 1000 bag of words.  Since this model did the best with 500 words and 500 components in the PCA, I wanted to see if it would do better with more words and components."
   ]
  },
  {
   "cell_type": "code",
   "execution_count": 30,
   "metadata": {},
   "outputs": [
    {
     "name": "stdout",
     "output_type": "stream",
     "text": [
      "76.98\n"
     ]
    }
   ],
   "source": [
    "#MODEL 10\n",
    "\n",
    "#the best SVM model without PCA, but with 1000 words\n",
    "svc1000 = SVC(C=1, cache_size=200, class_weight=None, coef0=0.0,\n",
    "  decision_function_shape='ovr', degree=3, gamma=0.1, kernel='rbf',\n",
    "  max_iter=-1, probability=False, random_state=None, shrinking=True,\n",
    "  tol=0.001, verbose=False)\n",
    "svc1000.fit(train_word_columns1000, train_target)\n",
    "svc1000_predictions = svc1000.predict(test_word_columns1000)\n",
    "print(clean_display(accuracy_score(svc1000_predictions, test_target)))"
   ]
  },
  {
   "cell_type": "code",
   "execution_count": 31,
   "metadata": {},
   "outputs": [
    {
     "data": {
      "text/plain": [
       "<matplotlib.text.Text at 0x7f692c6bf1d0>"
      ]
     },
     "execution_count": 31,
     "metadata": {},
     "output_type": "execute_result"
    },
    {
     "data": {
      "image/png": "[encoded data removed]",
      "text/plain": [
       "<matplotlib.figure.Figure at 0x7f6933564d68>"
      ]
     },
     "metadata": {},
     "output_type": "display_data"
    }
   ],
   "source": [
    "#a confustion matrix create from the best model\n",
    "#the best model was a SVM wihout PCA, and the 1000 bag of words\n",
    "import matplotlib.pyplot as plt\n",
    "import itertools\n",
    "%matplotlib inline\n",
    "\n",
    "cm=metrics.confusion_matrix(test_target, svc1000_predictions)\n",
    "plt.imshow(cm, interpolation='nearest',cmap=plt.cm.Blues)\n",
    "plt.title(\"Confusion Matrix\")\n",
    "plt.colorbar()\n",
    "plt.xticks([0,1,2], svc1000.classes_,rotation=45)\n",
    "plt.yticks([0,1,2], svc1000.classes_)\n",
    "thresh = cm.max() / 2.\n",
    "for i, j in itertools.product(range(cm.shape[0]), range(cm.shape[1])):\n",
    "    plt.text(j, i, format(cm[i, j], '.0f'), horizontalalignment=\"center\",color=\"white\" if cm[i, j] > thresh else \"black\")\n",
    "plt.xlabel('Predicted label')\n",
    "plt.ylabel('True label')"
   ]
  },
  {
   "cell_type": "markdown",
   "metadata": {
    "collapsed": true
   },
   "source": [
    "# Additional Training with a new subset of the data"
   ]
  },
  {
   "cell_type": "markdown",
   "metadata": {},
   "source": [
    "The data contains many more negative tweets that positive tweets.  I wanted to give the model a dataset with an even split of negative, positve, and neutral tweets.  So I made a new list of tweets to be used for analysis that had an equal number of positive, negative, and neutral tweets.  I setup all the necessary variables to run the best model from the code above to see if that model would do better with this modified dataset."
   ]
  },
  {
   "cell_type": "code",
   "execution_count": 32,
   "metadata": {},
   "outputs": [
    {
     "name": "stdout",
     "output_type": "stream",
     "text": [
      "7089\n"
     ]
    }
   ],
   "source": [
    "NUMBER_OF_EVEN_REVIEWS = min(len(positive_data), len(negative_data), len(neutral_data))*3\n",
    "print(NUMBER_OF_EVEN_REVIEWS)"
   ]
  },
  {
   "cell_type": "code",
   "execution_count": 34,
   "metadata": {},
   "outputs": [],
   "source": [
    "even_list_of_cleaned_reviews = []\n",
    "for index in range(int(len(data[\"text\"][:NUMBER_OF_EVEN_REVIEWS])/3)):\n",
    "    even_list_of_cleaned_reviews.append(clean_text(positive_data[\"text\"].iloc[index]))\n",
    "    even_list_of_cleaned_reviews.append(clean_text(negative_data[\"text\"].iloc[index]))\n",
    "    even_list_of_cleaned_reviews.append(clean_text(neutral_data[\"text\"].iloc[index]))"
   ]
  },
  {
   "cell_type": "code",
   "execution_count": 35,
   "metadata": {
    "collapsed": true
   },
   "outputs": [],
   "source": [
    "(even_train_tweets, even_test_tweets, even_train_target, even_test_target) = \\\n",
    "train_test_split(even_list_of_cleaned_reviews, data[\"airline_sentiment\"][:NUMBER_OF_EVEN_REVIEWS],\\\n",
    "test_size = 0.2)"
   ]
  },
  {
   "cell_type": "code",
   "execution_count": 36,
   "metadata": {},
   "outputs": [
    {
     "data": {
      "text/plain": [
       "CountVectorizer(analyzer='word', binary=False, decode_error='strict',\n",
       "        dtype=<class 'numpy.int64'>, encoding='utf-8', input='content',\n",
       "        lowercase=True, max_df=1.0, max_features=1000, min_df=1,\n",
       "        ngram_range=(1, 1), preprocessor=None, stop_words=None,\n",
       "        strip_accents=None, token_pattern='(?u)\\\\b\\\\w\\\\w+\\\\b',\n",
       "        tokenizer=None, vocabulary=None)"
      ]
     },
     "execution_count": 36,
     "metadata": {},
     "output_type": "execute_result"
    }
   ],
   "source": [
    "#bag of words with 500 most common words\n",
    "even_vectorizer1000 = CountVectorizer(analyzer='word', max_features = 1000)\n",
    "#find the right 5000 words\n",
    "even_vectorizer1000.fit(even_train_tweets)\n",
    "#look at which words it found\n",
    "#print(even_vectorizer1000.get_feature_names())"
   ]
  },
  {
   "cell_type": "code",
   "execution_count": 37,
   "metadata": {
    "collapsed": true
   },
   "outputs": [],
   "source": [
    "#transform review strings into the rows of word counts\n",
    "#also convert it to a numpy array so we can later feed it to a machine learning algorithm\n",
    "even_train_word_columns1000 = even_vectorizer1000.transform(even_train_tweets).toarray()\n",
    "even_test_word_columns1000 = even_vectorizer1000.transform(even_test_tweets).toarray()\n",
    "\n",
    "#look at what train_words_columns looks like\n",
    "#print(even_train_word_columns1000)"
   ]
  },
  {
   "cell_type": "markdown",
   "metadata": {},
   "source": [
    "Model 11 is the best model from above but with the new special even subset of data"
   ]
  },
  {
   "cell_type": "code",
   "execution_count": 38,
   "metadata": {},
   "outputs": [
    {
     "name": "stdout",
     "output_type": "stream",
     "text": [
      "47.74\n"
     ]
    }
   ],
   "source": [
    "#MODEL 11\n",
    "\n",
    "#using the best model from above with an even split dataset\n",
    "even_svc1000 = SVC(C=1, cache_size=200, class_weight=None, coef0=0.0,\n",
    "  decision_function_shape='ovr', degree=3, gamma=0.1, kernel='rbf',\n",
    "  max_iter=-1, probability=False, random_state=None, shrinking=True,\n",
    "  tol=0.001, verbose=False)\n",
    "even_svc1000.fit(even_train_word_columns1000, even_train_target)\n",
    "even_svc1000_predictions = svc1000.predict(even_test_word_columns1000)\n",
    "print(clean_display(accuracy_score(even_svc1000_predictions, even_test_target)))"
   ]
  },
  {
   "cell_type": "code",
   "execution_count": 39,
   "metadata": {},
   "outputs": [
    {
     "data": {
      "text/plain": [
       "<matplotlib.text.Text at 0x7f692009e2b0>"
      ]
     },
     "execution_count": 39,
     "metadata": {},
     "output_type": "execute_result"
    },
    {
     "data": {
      "image/png": "[encoded data removed]",
      "text/plain": [
       "<matplotlib.figure.Figure at 0x7f692c619358>"
      ]
     },
     "metadata": {},
     "output_type": "display_data"
    }
   ],
   "source": [
    "even_cm=metrics.confusion_matrix(even_test_target, even_svc1000_predictions)\n",
    "plt.imshow(even_cm, interpolation='nearest',cmap=plt.cm.Blues)\n",
    "plt.title(\"Confusion Matrix\")\n",
    "plt.colorbar()\n",
    "plt.xticks([0,1,2], even_svc1000.classes_,rotation=45)\n",
    "plt.yticks([0,1,2], even_svc1000.classes_)\n",
    "thresh = even_cm.max() / 2.\n",
    "for i, j in itertools.product(range(even_cm.shape[0]), range(even_cm.shape[1])):\n",
    "    plt.text(j, i, format(even_cm[i, j], '.0f'), horizontalalignment=\"center\",color=\"white\" if even_cm[i, j] > thresh else \"black\")\n",
    "plt.xlabel('Predicted label')\n",
    "plt.ylabel('True label')"
   ]
  },
  {
   "cell_type": "markdown",
   "metadata": {},
   "source": [
    "# Result Interpretation"
   ]
  },
  {
   "cell_type": "markdown",
   "metadata": {},
   "source": [
    "Overall the SVM with C=1.0, gamma=0.1, and kernel=rbf performed the best with 1000 words in the bag of words and without PCA.  Fine tuning model parameters added some increase in accuracy to the model but usually around 1%.  I found that playing with the size of the bag of words and the number of components in the PCA model had the greatest effect on the accuracy.  I thought the model was not performing better than 80% accuracy because it saw a greater number of negative tweets than the other two categories.  I tried to fix this by creating a subset of the data with an even amount of positive, negative, and neutral tweets.  I used this new dataset with the best model that used the unchange dataset and found worse results.  Because I had an even number of tweets in each category, I had to reduce the number of tweets used overall which may have caused the new model with the special dataset to perform worse.  If the dataset was larger, this could have worked better.  Additionally, using all tweets, not just ones directed at airlines, could have been used to train our model and might have yielded better accuracy.  I believe any tweet could be used because tweets with negative sentiment about anything will be similar to tweets with negative sentiment towards airlines.  "
   ]
  },
  {
   "cell_type": "markdown",
   "metadata": {},
   "source": [
    "# Parameters used to find the best SVM"
   ]
  },
  {
   "cell_type": "code",
   "execution_count": 40,
   "metadata": {},
   "outputs": [
    {
     "data": {
      "text/plain": [
       "\"\\nsvc_parameters1 = {'C':[0.1, 1, 10],\\n             'kernel':['rbf', 'linear', 'poly'],\\n             'gamma':[0.1, 1, 10]}\\n\\nsvc_parameters2 = {'kernel':['rbf', 'linear', 'poly']}\\n\\nsvc_parameters3 = {'C':[10,100],\\n             'kernel':['rbf'],\\n             'gamma':[0.01, 0.1]}\\n\\nsvc_parameters4 = {'C':[10, 12, 14],\\n             'kernel':['rbf'],\\n             'gamma':[0.1]}\\n\\nsvc_parameters5 = {'C':[6,8,10],\\n             'kernel':['rbf'],\\n             'gamma':[0.1]}\\n\\nsvc_parameters6 = {'C':[4,5,6,7,8],\\n             'kernel':['rbf'],\\n             'gamma':[0.1]}\\n\\nsvc_parameters7 = {'C':[6.5, 7, 7.5],\\n             'kernel':['rbf'],\\n             'gamma':[0.1]}\\n\\nsvc_parameters8 = {'C':[7],\\n             'kernel':['rbf'],\\n             'gamma':[0.01, 0.05,0.1, 0.2]}\\n\""
      ]
     },
     "execution_count": 40,
     "metadata": {},
     "output_type": "execute_result"
    }
   ],
   "source": [
    "#list of parameters used with gridsearch to find a better svc model\n",
    "'''\n",
    "svc_parameters1 = {'C':[0.1, 1, 10],\n",
    "             'kernel':['rbf', 'linear', 'poly'],\n",
    "             'gamma':[0.1, 1, 10]}\n",
    "\n",
    "svc_parameters2 = {'kernel':['rbf', 'linear', 'poly']}\n",
    "\n",
    "svc_parameters3 = {'C':[10,100],\n",
    "             'kernel':['rbf'],\n",
    "             'gamma':[0.01, 0.1]}\n",
    "\n",
    "svc_parameters4 = {'C':[10, 12, 14],\n",
    "             'kernel':['rbf'],\n",
    "             'gamma':[0.1]}\n",
    "\n",
    "svc_parameters5 = {'C':[6,8,10],\n",
    "             'kernel':['rbf'],\n",
    "             'gamma':[0.1]}\n",
    "\n",
    "svc_parameters6 = {'C':[4,5,6,7,8],\n",
    "             'kernel':['rbf'],\n",
    "             'gamma':[0.1]}\n",
    "\n",
    "svc_parameters7 = {'C':[6.5, 7, 7.5],\n",
    "             'kernel':['rbf'],\n",
    "             'gamma':[0.1]}\n",
    "\n",
    "svc_parameters8 = {'C':[7],\n",
    "             'kernel':['rbf'],\n",
    "             'gamma':[0.01, 0.05,0.1, 0.2]}\n",
    "'''"
   ]
  },
  {
   "cell_type": "code",
   "execution_count": null,
   "metadata": {
    "collapsed": true
   },
   "outputs": [],
   "source": []
  }
 ],
 "metadata": {
  "kernelspec": {
   "display_name": "Python 3",
   "language": "python",
   "name": "python3"
  },
  "language_info": {
   "codemirror_mode": {
    "name": "ipython",
    "version": 3
   },
   "file_extension": ".py",
   "mimetype": "text/x-python",
   "name": "python",
   "nbconvert_exporter": "python",
   "pygments_lexer": "ipython3",
   "version": "3.6.2"
  }
 },
 "nbformat": 4,
 "nbformat_minor": 2
}

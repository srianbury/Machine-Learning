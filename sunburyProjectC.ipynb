{
 "cells": [
  {
   "cell_type": "code",
   "execution_count": 1,
   "metadata": {},
   "outputs": [
    {
     "name": "stderr",
     "output_type": "stream",
     "text": [
      "Using TensorFlow backend.\n"
     ]
    }
   ],
   "source": [
    "#using the following links as guides\n",
    "#Intro to CNN Keras -- https://www.kaggle.com/yassineghouzam/introduction-to-cnn-keras-0-997-top-6\n",
    "#Deep NNN Keras Way -- https://www.kaggle.com/poonaml/deep-neural-network-keras-way\n",
    "#Keras CNN -- https://anaconda.org/ericmanley/cs167_keras_dogcat/notebook\n",
    "\n",
    "import numpy as np\n",
    "import pandas as pd\n",
    "from sklearn.model_selection import train_test_split\n",
    "\n",
    "from keras.models import Sequential\n",
    "from keras.layers import Dense, Dropout, Lambda, Flatten, Lambda, BatchNormalization, Convolution2D , MaxPooling2D, Conv2D\n",
    "from keras.optimizers import Adam, RMSprop\n",
    "from keras.utils.np_utils import to_categorical\n",
    "from keras.callbacks import EarlyStopping\n",
    "from keras.preprocessing import image\n",
    "\n",
    "import matplotlib.pyplot as plt\n",
    "%matplotlib inline"
   ]
  },
  {
   "cell_type": "code",
   "execution_count": 2,
   "metadata": {
    "collapsed": true
   },
   "outputs": [],
   "source": [
    "NUMBER_TRAIN_EXAMPLES = 20000\n",
    "NUMBER_VALIDATION_EXAMPLES = 4000\n",
    "BATCH_SIZE = 32\n",
    "NUMBER_EPOCHS = 12 #the longest time to run an epoch was about 150s 30min/150s = about 12 epochs in 30 mins\n",
    "IMAGE_HEIGHT = 28\n",
    "IMAGE_WIDTH = 28"
   ]
  },
  {
   "cell_type": "code",
   "execution_count": 3,
   "metadata": {
    "collapsed": true
   },
   "outputs": [],
   "source": [
    "def standardize(x): \n",
    "    return (x-mean_px)/std_px"
   ]
  },
  {
   "cell_type": "code",
   "execution_count": 27,
   "metadata": {
    "collapsed": true
   },
   "outputs": [],
   "source": [
    "def show_acc_graph(training_results, model_name):\n",
    "    #using the results returned by the training history to visualize\n",
    "    #accuracy on the training and testing sets for each epoch\n",
    "    plt.plot(training_results.history['acc'])\n",
    "    plt.plot(training_results.history['val_acc'])\n",
    "    plt.title(model_name + ' accuracy')\n",
    "    plt.ylabel('accuracy')\n",
    "    plt.xlabel('epoch')\n",
    "    plt.legend(['train', 'test'], loc='upper left')\n",
    "    plt.show()"
   ]
  },
  {
   "cell_type": "code",
   "execution_count": 5,
   "metadata": {
    "scrolled": false
   },
   "outputs": [
    {
     "name": "stdout",
     "output_type": "stream",
     "text": [
      "(42000, 785)\n"
     ]
    },
    {
     "data": {
      "text/html": [
       "<div>\n",
       "<style>\n",
       "    .dataframe thead tr:only-child th {\n",
       "        text-align: right;\n",
       "    }\n",
       "\n",
       "    .dataframe thead th {\n",
       "        text-align: left;\n",
       "    }\n",
       "\n",
       "    .dataframe tbody tr th {\n",
       "        vertical-align: top;\n",
       "    }\n",
       "</style>\n",
       "<table border=\"1\" class=\"dataframe\">\n",
       "  <thead>\n",
       "    <tr style=\"text-align: right;\">\n",
       "      <th></th>\n",
       "      <th>label</th>\n",
       "      <th>pixel0</th>\n",
       "      <th>pixel1</th>\n",
       "      <th>pixel2</th>\n",
       "      <th>pixel3</th>\n",
       "      <th>pixel4</th>\n",
       "      <th>pixel5</th>\n",
       "      <th>pixel6</th>\n",
       "      <th>pixel7</th>\n",
       "      <th>pixel8</th>\n",
       "      <th>...</th>\n",
       "      <th>pixel774</th>\n",
       "      <th>pixel775</th>\n",
       "      <th>pixel776</th>\n",
       "      <th>pixel777</th>\n",
       "      <th>pixel778</th>\n",
       "      <th>pixel779</th>\n",
       "      <th>pixel780</th>\n",
       "      <th>pixel781</th>\n",
       "      <th>pixel782</th>\n",
       "      <th>pixel783</th>\n",
       "    </tr>\n",
       "  </thead>\n",
       "  <tbody>\n",
       "    <tr>\n",
       "      <th>0</th>\n",
       "      <td>1</td>\n",
       "      <td>0</td>\n",
       "      <td>0</td>\n",
       "      <td>0</td>\n",
       "      <td>0</td>\n",
       "      <td>0</td>\n",
       "      <td>0</td>\n",
       "      <td>0</td>\n",
       "      <td>0</td>\n",
       "      <td>0</td>\n",
       "      <td>...</td>\n",
       "      <td>0</td>\n",
       "      <td>0</td>\n",
       "      <td>0</td>\n",
       "      <td>0</td>\n",
       "      <td>0</td>\n",
       "      <td>0</td>\n",
       "      <td>0</td>\n",
       "      <td>0</td>\n",
       "      <td>0</td>\n",
       "      <td>0</td>\n",
       "    </tr>\n",
       "    <tr>\n",
       "      <th>1</th>\n",
       "      <td>0</td>\n",
       "      <td>0</td>\n",
       "      <td>0</td>\n",
       "      <td>0</td>\n",
       "      <td>0</td>\n",
       "      <td>0</td>\n",
       "      <td>0</td>\n",
       "      <td>0</td>\n",
       "      <td>0</td>\n",
       "      <td>0</td>\n",
       "      <td>...</td>\n",
       "      <td>0</td>\n",
       "      <td>0</td>\n",
       "      <td>0</td>\n",
       "      <td>0</td>\n",
       "      <td>0</td>\n",
       "      <td>0</td>\n",
       "      <td>0</td>\n",
       "      <td>0</td>\n",
       "      <td>0</td>\n",
       "      <td>0</td>\n",
       "    </tr>\n",
       "    <tr>\n",
       "      <th>2</th>\n",
       "      <td>1</td>\n",
       "      <td>0</td>\n",
       "      <td>0</td>\n",
       "      <td>0</td>\n",
       "      <td>0</td>\n",
       "      <td>0</td>\n",
       "      <td>0</td>\n",
       "      <td>0</td>\n",
       "      <td>0</td>\n",
       "      <td>0</td>\n",
       "      <td>...</td>\n",
       "      <td>0</td>\n",
       "      <td>0</td>\n",
       "      <td>0</td>\n",
       "      <td>0</td>\n",
       "      <td>0</td>\n",
       "      <td>0</td>\n",
       "      <td>0</td>\n",
       "      <td>0</td>\n",
       "      <td>0</td>\n",
       "      <td>0</td>\n",
       "    </tr>\n",
       "    <tr>\n",
       "      <th>3</th>\n",
       "      <td>4</td>\n",
       "      <td>0</td>\n",
       "      <td>0</td>\n",
       "      <td>0</td>\n",
       "      <td>0</td>\n",
       "      <td>0</td>\n",
       "      <td>0</td>\n",
       "      <td>0</td>\n",
       "      <td>0</td>\n",
       "      <td>0</td>\n",
       "      <td>...</td>\n",
       "      <td>0</td>\n",
       "      <td>0</td>\n",
       "      <td>0</td>\n",
       "      <td>0</td>\n",
       "      <td>0</td>\n",
       "      <td>0</td>\n",
       "      <td>0</td>\n",
       "      <td>0</td>\n",
       "      <td>0</td>\n",
       "      <td>0</td>\n",
       "    </tr>\n",
       "    <tr>\n",
       "      <th>4</th>\n",
       "      <td>0</td>\n",
       "      <td>0</td>\n",
       "      <td>0</td>\n",
       "      <td>0</td>\n",
       "      <td>0</td>\n",
       "      <td>0</td>\n",
       "      <td>0</td>\n",
       "      <td>0</td>\n",
       "      <td>0</td>\n",
       "      <td>0</td>\n",
       "      <td>...</td>\n",
       "      <td>0</td>\n",
       "      <td>0</td>\n",
       "      <td>0</td>\n",
       "      <td>0</td>\n",
       "      <td>0</td>\n",
       "      <td>0</td>\n",
       "      <td>0</td>\n",
       "      <td>0</td>\n",
       "      <td>0</td>\n",
       "      <td>0</td>\n",
       "    </tr>\n",
       "  </tbody>\n",
       "</table>\n",
       "<p>5 rows × 785 columns</p>\n",
       "</div>"
      ],
      "text/plain": [
       "   label  pixel0  pixel1  pixel2  pixel3  pixel4  pixel5  pixel6  pixel7  \\\n",
       "0      1       0       0       0       0       0       0       0       0   \n",
       "1      0       0       0       0       0       0       0       0       0   \n",
       "2      1       0       0       0       0       0       0       0       0   \n",
       "3      4       0       0       0       0       0       0       0       0   \n",
       "4      0       0       0       0       0       0       0       0       0   \n",
       "\n",
       "   pixel8    ...     pixel774  pixel775  pixel776  pixel777  pixel778  \\\n",
       "0       0    ...            0         0         0         0         0   \n",
       "1       0    ...            0         0         0         0         0   \n",
       "2       0    ...            0         0         0         0         0   \n",
       "3       0    ...            0         0         0         0         0   \n",
       "4       0    ...            0         0         0         0         0   \n",
       "\n",
       "   pixel779  pixel780  pixel781  pixel782  pixel783  \n",
       "0         0         0         0         0         0  \n",
       "1         0         0         0         0         0  \n",
       "2         0         0         0         0         0  \n",
       "3         0         0         0         0         0  \n",
       "4         0         0         0         0         0  \n",
       "\n",
       "[5 rows x 785 columns]"
      ]
     },
     "execution_count": 5,
     "metadata": {},
     "output_type": "execute_result"
    }
   ],
   "source": [
    "train = pd.read_csv('digits/digittrain.csv')\n",
    "print(train.shape)\n",
    "train.head()"
   ]
  },
  {
   "cell_type": "code",
   "execution_count": 6,
   "metadata": {},
   "outputs": [
    {
     "name": "stdout",
     "output_type": "stream",
     "text": [
      "(28000, 784)\n"
     ]
    },
    {
     "data": {
      "text/html": [
       "<div>\n",
       "<style>\n",
       "    .dataframe thead tr:only-child th {\n",
       "        text-align: right;\n",
       "    }\n",
       "\n",
       "    .dataframe thead th {\n",
       "        text-align: left;\n",
       "    }\n",
       "\n",
       "    .dataframe tbody tr th {\n",
       "        vertical-align: top;\n",
       "    }\n",
       "</style>\n",
       "<table border=\"1\" class=\"dataframe\">\n",
       "  <thead>\n",
       "    <tr style=\"text-align: right;\">\n",
       "      <th></th>\n",
       "      <th>pixel0</th>\n",
       "      <th>pixel1</th>\n",
       "      <th>pixel2</th>\n",
       "      <th>pixel3</th>\n",
       "      <th>pixel4</th>\n",
       "      <th>pixel5</th>\n",
       "      <th>pixel6</th>\n",
       "      <th>pixel7</th>\n",
       "      <th>pixel8</th>\n",
       "      <th>pixel9</th>\n",
       "      <th>...</th>\n",
       "      <th>pixel774</th>\n",
       "      <th>pixel775</th>\n",
       "      <th>pixel776</th>\n",
       "      <th>pixel777</th>\n",
       "      <th>pixel778</th>\n",
       "      <th>pixel779</th>\n",
       "      <th>pixel780</th>\n",
       "      <th>pixel781</th>\n",
       "      <th>pixel782</th>\n",
       "      <th>pixel783</th>\n",
       "    </tr>\n",
       "  </thead>\n",
       "  <tbody>\n",
       "    <tr>\n",
       "      <th>0</th>\n",
       "      <td>0</td>\n",
       "      <td>0</td>\n",
       "      <td>0</td>\n",
       "      <td>0</td>\n",
       "      <td>0</td>\n",
       "      <td>0</td>\n",
       "      <td>0</td>\n",
       "      <td>0</td>\n",
       "      <td>0</td>\n",
       "      <td>0</td>\n",
       "      <td>...</td>\n",
       "      <td>0</td>\n",
       "      <td>0</td>\n",
       "      <td>0</td>\n",
       "      <td>0</td>\n",
       "      <td>0</td>\n",
       "      <td>0</td>\n",
       "      <td>0</td>\n",
       "      <td>0</td>\n",
       "      <td>0</td>\n",
       "      <td>0</td>\n",
       "    </tr>\n",
       "    <tr>\n",
       "      <th>1</th>\n",
       "      <td>0</td>\n",
       "      <td>0</td>\n",
       "      <td>0</td>\n",
       "      <td>0</td>\n",
       "      <td>0</td>\n",
       "      <td>0</td>\n",
       "      <td>0</td>\n",
       "      <td>0</td>\n",
       "      <td>0</td>\n",
       "      <td>0</td>\n",
       "      <td>...</td>\n",
       "      <td>0</td>\n",
       "      <td>0</td>\n",
       "      <td>0</td>\n",
       "      <td>0</td>\n",
       "      <td>0</td>\n",
       "      <td>0</td>\n",
       "      <td>0</td>\n",
       "      <td>0</td>\n",
       "      <td>0</td>\n",
       "      <td>0</td>\n",
       "    </tr>\n",
       "    <tr>\n",
       "      <th>2</th>\n",
       "      <td>0</td>\n",
       "      <td>0</td>\n",
       "      <td>0</td>\n",
       "      <td>0</td>\n",
       "      <td>0</td>\n",
       "      <td>0</td>\n",
       "      <td>0</td>\n",
       "      <td>0</td>\n",
       "      <td>0</td>\n",
       "      <td>0</td>\n",
       "      <td>...</td>\n",
       "      <td>0</td>\n",
       "      <td>0</td>\n",
       "      <td>0</td>\n",
       "      <td>0</td>\n",
       "      <td>0</td>\n",
       "      <td>0</td>\n",
       "      <td>0</td>\n",
       "      <td>0</td>\n",
       "      <td>0</td>\n",
       "      <td>0</td>\n",
       "    </tr>\n",
       "    <tr>\n",
       "      <th>3</th>\n",
       "      <td>0</td>\n",
       "      <td>0</td>\n",
       "      <td>0</td>\n",
       "      <td>0</td>\n",
       "      <td>0</td>\n",
       "      <td>0</td>\n",
       "      <td>0</td>\n",
       "      <td>0</td>\n",
       "      <td>0</td>\n",
       "      <td>0</td>\n",
       "      <td>...</td>\n",
       "      <td>0</td>\n",
       "      <td>0</td>\n",
       "      <td>0</td>\n",
       "      <td>0</td>\n",
       "      <td>0</td>\n",
       "      <td>0</td>\n",
       "      <td>0</td>\n",
       "      <td>0</td>\n",
       "      <td>0</td>\n",
       "      <td>0</td>\n",
       "    </tr>\n",
       "    <tr>\n",
       "      <th>4</th>\n",
       "      <td>0</td>\n",
       "      <td>0</td>\n",
       "      <td>0</td>\n",
       "      <td>0</td>\n",
       "      <td>0</td>\n",
       "      <td>0</td>\n",
       "      <td>0</td>\n",
       "      <td>0</td>\n",
       "      <td>0</td>\n",
       "      <td>0</td>\n",
       "      <td>...</td>\n",
       "      <td>0</td>\n",
       "      <td>0</td>\n",
       "      <td>0</td>\n",
       "      <td>0</td>\n",
       "      <td>0</td>\n",
       "      <td>0</td>\n",
       "      <td>0</td>\n",
       "      <td>0</td>\n",
       "      <td>0</td>\n",
       "      <td>0</td>\n",
       "    </tr>\n",
       "  </tbody>\n",
       "</table>\n",
       "<p>5 rows × 784 columns</p>\n",
       "</div>"
      ],
      "text/plain": [
       "   pixel0  pixel1  pixel2  pixel3  pixel4  pixel5  pixel6  pixel7  pixel8  \\\n",
       "0       0       0       0       0       0       0       0       0       0   \n",
       "1       0       0       0       0       0       0       0       0       0   \n",
       "2       0       0       0       0       0       0       0       0       0   \n",
       "3       0       0       0       0       0       0       0       0       0   \n",
       "4       0       0       0       0       0       0       0       0       0   \n",
       "\n",
       "   pixel9    ...     pixel774  pixel775  pixel776  pixel777  pixel778  \\\n",
       "0       0    ...            0         0         0         0         0   \n",
       "1       0    ...            0         0         0         0         0   \n",
       "2       0    ...            0         0         0         0         0   \n",
       "3       0    ...            0         0         0         0         0   \n",
       "4       0    ...            0         0         0         0         0   \n",
       "\n",
       "   pixel779  pixel780  pixel781  pixel782  pixel783  \n",
       "0         0         0         0         0         0  \n",
       "1         0         0         0         0         0  \n",
       "2         0         0         0         0         0  \n",
       "3         0         0         0         0         0  \n",
       "4         0         0         0         0         0  \n",
       "\n",
       "[5 rows x 784 columns]"
      ]
     },
     "execution_count": 6,
     "metadata": {},
     "output_type": "execute_result"
    }
   ],
   "source": [
    "test = pd.read_csv('digits/digittest.csv')\n",
    "print(test.shape)\n",
    "test.head()"
   ]
  },
  {
   "cell_type": "code",
   "execution_count": 7,
   "metadata": {},
   "outputs": [
    {
     "data": {
      "text/plain": [
       "array([[ 0.,  0.,  0., ...,  0.,  0.,  0.],\n",
       "       [ 0.,  0.,  0., ...,  0.,  0.,  0.],\n",
       "       [ 0.,  0.,  0., ...,  0.,  0.,  0.],\n",
       "       ..., \n",
       "       [ 0.,  0.,  0., ...,  0.,  0.,  0.],\n",
       "       [ 0.,  0.,  0., ...,  0.,  0.,  0.],\n",
       "       [ 0.,  0.,  0., ...,  0.,  0.,  0.]], dtype=float32)"
      ]
     },
     "execution_count": 7,
     "metadata": {},
     "output_type": "execute_result"
    }
   ],
   "source": [
    "x_train = (train.iloc[:,1:].values).astype('float32') # all pixel values\n",
    "y_train = train.iloc[:,0].values.astype('int32') # only labels i.e targets digits\n",
    "x_test = test.values.astype('float32')\n",
    "x_train"
   ]
  },
  {
   "cell_type": "code",
   "execution_count": 8,
   "metadata": {},
   "outputs": [
    {
     "data": {
      "text/plain": [
       "array([1, 0, 1, ..., 7, 6, 9])"
      ]
     },
     "execution_count": 8,
     "metadata": {},
     "output_type": "execute_result"
    }
   ],
   "source": [
    "y_train\n",
    "#the output variable is an integer from 0 to 9.  It is a multiclass classification problem"
   ]
  },
  {
   "cell_type": "code",
   "execution_count": 9,
   "metadata": {
    "scrolled": false
   },
   "outputs": [
    {
     "data": {
      "image/png": "[encoded data removed]",
      "text/plain": [
       "<matplotlib.figure.Figure at 0x21e897bc358>"
      ]
     },
     "metadata": {},
     "output_type": "display_data"
    }
   ],
   "source": [
    "x_train = x_train.reshape(x_train.shape[0], 28, 28)\n",
    "\n",
    "for i in range(6, 9):\n",
    "    plt.subplot(330 + (i+1))\n",
    "    plt.imshow(x_train[i], cmap=plt.get_cmap('gray'))\n",
    "    plt.title(y_train[i]);"
   ]
  },
  {
   "cell_type": "code",
   "execution_count": 10,
   "metadata": {},
   "outputs": [
    {
     "data": {
      "text/plain": [
       "(42000, 28, 28, 1)"
      ]
     },
     "execution_count": 10,
     "metadata": {},
     "output_type": "execute_result"
    }
   ],
   "source": [
    "#expand 1 more dimension as 1 for colour channel gray\n",
    "x_train = x_train.reshape(x_train.shape[0], 28, 28,1)\n",
    "x_train.shape"
   ]
  },
  {
   "cell_type": "code",
   "execution_count": 11,
   "metadata": {
    "collapsed": true
   },
   "outputs": [],
   "source": [
    "#x_test = x_test.reshape(x_test.shape[0], 28, 28,1)\n",
    "#x_test.shape"
   ]
  },
  {
   "cell_type": "code",
   "execution_count": 12,
   "metadata": {
    "collapsed": true
   },
   "outputs": [],
   "source": [
    "#for standardization\n",
    "mean_px = x_train.mean().astype(np.float32)\n",
    "std_px = x_train.std().astype(np.float32)"
   ]
  },
  {
   "cell_type": "code",
   "execution_count": 13,
   "metadata": {},
   "outputs": [
    {
     "data": {
      "text/plain": [
       "10"
      ]
     },
     "execution_count": 13,
     "metadata": {},
     "output_type": "execute_result"
    }
   ],
   "source": [
    "#One hot encoding of labels\n",
    "#A one-hot vector is a vector which is 0 in most dimensions, and 1 in a single dimension. \n",
    "#In this case, the nth digit will be represented as a vector which is 1 in the nth dimension.\n",
    "#For example, 3 would be [0,0,0,1,0,0,0,0,0,0].\n",
    "\n",
    "y_train= to_categorical(y_train)\n",
    "num_classes = y_train.shape[1]\n",
    "num_classes"
   ]
  },
  {
   "cell_type": "code",
   "execution_count": 14,
   "metadata": {
    "scrolled": true
   },
   "outputs": [
    {
     "data": {
      "image/png": "[encoded data removed]",
      "text/plain": [
       "<matplotlib.figure.Figure at 0x21e897bccf8>"
      ]
     },
     "metadata": {},
     "output_type": "display_data"
    }
   ],
   "source": [
    "plt.title(y_train[9])\n",
    "plt.plot(y_train[9])\n",
    "plt.xticks(range(10));"
   ]
  },
  {
   "cell_type": "code",
   "execution_count": 15,
   "metadata": {
    "collapsed": true
   },
   "outputs": [],
   "source": [
    "gen = image.ImageDataGenerator()\n",
    "\n",
    "x_train, x_val, y_train, y_val = train_test_split(x_train, y_train, test_size=0.20, random_state=42)\n",
    "batches = gen.flow(x_train, y_train, batch_size=BATCH_SIZE)\n",
    "val_batches=gen.flow(x_val, y_val, batch_size=BATCH_SIZE)"
   ]
  },
  {
   "cell_type": "markdown",
   "metadata": {
    "collapsed": true
   },
   "source": [
    "# First Model"
   ]
  },
  {
   "cell_type": "code",
   "execution_count": 16,
   "metadata": {
    "scrolled": false
   },
   "outputs": [
    {
     "name": "stdout",
     "output_type": "stream",
     "text": [
      "input shape  (None, 28, 28, 1)\n",
      "output shape  (None, 10)\n"
     ]
    }
   ],
   "source": [
    "#We'll try another model, this time with pooling layers after each\n",
    "#convolutional layer, and then a dropout layer before the final node to see if we can avoid over-fitting\n",
    "#changing the kernal size from 3 to 1\n",
    "\n",
    "#setting up a sequential model\n",
    "original_model = Sequential()\n",
    "\n",
    "#adding two conv2d layers each with 32 filters and a kernel size of 5x5\n",
    "original_model.add(Conv2D(32, (5, 5), activation = 'relu', input_shape=(IMAGE_WIDTH, IMAGE_HEIGHT, 1)))\n",
    "original_model.add(Conv2D(32, (5, 5), activation = 'relu', input_shape=(IMAGE_WIDTH, IMAGE_HEIGHT, 1)))\n",
    "##this layer looks at the 2 neighboring pixels and picks the max value and it helps reduce overfitting\n",
    "original_model.add(MaxPooling2D(pool_size=(2, 2)))\n",
    "#a proportion of nodes in the layer are randomly ignored\n",
    "#This randomly drops a propotion of the network and forces the network to learn features in a distributed way\n",
    "#also reduces overfitting\n",
    "original_model.add(Dropout(0.50))\n",
    "\n",
    "#adding two more conv2d layers each with 64 filters and a kernel size of 5x5\n",
    "original_model.add(Conv2D(64, (5, 5),activation = 'relu'))\n",
    "original_model.add(Conv2D(64, (5, 5),activation = 'relu'))\n",
    "##this layer looks at the 2 neighboring pixels and picks the max value and it helps reduce overfitting\n",
    "original_model.add(MaxPooling2D(pool_size=(2, 2)))\n",
    "#a proportion of nodes in the layer are randomly ignored\n",
    "#This randomly drops a propotion of the network and forces the network to learn features in a distributed way\n",
    "#also reduces overfitting\n",
    "original_model.add(Dropout(0.50))\n",
    "\n",
    "original_model.add(Flatten())\n",
    "original_model.add(Dense(64,activation = 'relu'))\n",
    "original_model.add(Dropout(0.5))\n",
    "original_model.add(Dense(10,activation='sigmoid'))\n",
    "\n",
    "print(\"input shape \",original_model.input_shape)\n",
    "print(\"output shape \",original_model.output_shape)\n",
    "\n",
    "original_model.compile(optimizer=RMSprop(lr=0.001),\n",
    " loss='categorical_crossentropy',\n",
    " metrics=['accuracy'])"
   ]
  },
  {
   "cell_type": "code",
   "execution_count": 17,
   "metadata": {},
   "outputs": [
    {
     "name": "stdout",
     "output_type": "stream",
     "text": [
      "Epoch 1/12\n",
      "625/625 [==============================] - 111s - loss: 2.4684 - acc: 0.4362 - val_loss: 0.3047 - val_acc: 0.9317\n",
      "Epoch 2/12\n",
      "625/625 [==============================] - 111s - loss: 0.5198 - acc: 0.8534 - val_loss: 0.1354 - val_acc: 0.9663\n",
      "Epoch 3/12\n",
      "625/625 [==============================] - 118s - loss: 0.3763 - acc: 0.9070 - val_loss: 0.1420 - val_acc: 0.9675\n",
      "Epoch 4/12\n",
      "625/625 [==============================] - 118s - loss: 0.3545 - acc: 0.9188 - val_loss: 0.1353 - val_acc: 0.9731\n",
      "Epoch 5/12\n",
      "625/625 [==============================] - 122s - loss: 0.4159 - acc: 0.9138 - val_loss: 0.1326 - val_acc: 0.9765\n",
      "Epoch 6/12\n",
      "625/625 [==============================] - 117s - loss: nan - acc: 0.6149 - val_loss: nan - val_acc: 0.0929\n",
      "Epoch 7/12\n",
      "625/625 [==============================] - 118s - loss: nan - acc: 0.1009 - val_loss: nan - val_acc: 0.0965\n",
      "Epoch 8/12\n",
      "625/625 [==============================] - 121s - loss: nan - acc: 0.0983 - val_loss: nan - val_acc: 0.1034\n",
      "Epoch 9/12\n",
      "625/625 [==============================] - 120s - loss: nan - acc: 0.0977 - val_loss: nan - val_acc: 0.1000\n",
      "Epoch 10/12\n",
      "625/625 [==============================] - 121s - loss: nan - acc: 0.0991 - val_loss: nan - val_acc: 0.0909\n",
      "Epoch 11/12\n",
      "625/625 [==============================] - 116s - loss: nan - acc: 0.0998 - val_loss: nan - val_acc: 0.1045\n",
      "Epoch 12/12\n",
      "625/625 [==============================] - 121s - loss: nan - acc: 0.0979 - val_loss: nan - val_acc: 0.0876\n"
     ]
    }
   ],
   "source": [
    "training_results_orig = original_model.fit_generator(\n",
    "    batches, \n",
    "    steps_per_epoch = NUMBER_TRAIN_EXAMPLES // BATCH_SIZE, \n",
    "    epochs=NUMBER_EPOCHS,      \n",
    "    validation_data=val_batches, \n",
    "    validation_steps = NUMBER_VALIDATION_EXAMPLES // BATCH_SIZE\n",
    ")"
   ]
  },
  {
   "cell_type": "code",
   "execution_count": 28,
   "metadata": {},
   "outputs": [
    {
     "data": {
      "image/png": "[encoded data removed]",
      "text/plain": [
       "<matplotlib.figure.Figure at 0x21ec54fb3c8>"
      ]
     },
     "metadata": {},
     "output_type": "display_data"
    }
   ],
   "source": [
    "show_acc_graph(training_results_orig, 'Original Model')"
   ]
  },
  {
   "cell_type": "markdown",
   "metadata": {
    "collapsed": true
   },
   "source": [
    "# Second Model -- Modified Version of original_model"
   ]
  },
  {
   "cell_type": "code",
   "execution_count": 18,
   "metadata": {},
   "outputs": [
    {
     "name": "stdout",
     "output_type": "stream",
     "text": [
      "input shape  (None, 28, 28, 1)\n",
      "output shape  (None, 10)\n"
     ]
    }
   ],
   "source": [
    "#using the same model as above but with a different kernel size\n",
    "#changing the kernal size from 5 to 3\n",
    "\n",
    "#setting up a sequential model\n",
    "modified_original_model = Sequential()\n",
    "\n",
    "#adding two conv2d layers each with 32 filters and a kernel size of 5x5\n",
    "modified_original_model.add(Conv2D(32, (3, 3), activation = 'relu', input_shape=(IMAGE_WIDTH, IMAGE_HEIGHT, 1)))\n",
    "modified_original_model.add(Conv2D(32, (3, 3), activation = 'relu', input_shape=(IMAGE_WIDTH, IMAGE_HEIGHT, 1)))\n",
    "##this layer looks at the 2 neighboring pixels and picks the max value and it helps reduce overfitting\n",
    "modified_original_model.add(MaxPooling2D(pool_size=(2, 2)))\n",
    "#a proportion of nodes in the layer are randomly ignored\n",
    "#This randomly drops a propotion of the network and forces the network to learn features in a distributed way\n",
    "#also reduces overfitting\n",
    "modified_original_model.add(Dropout(0.50))\n",
    "\n",
    "#adding two more conv2d layers each with 64 filters and a kernel size of 5x5\n",
    "modified_original_model.add(Conv2D(64, (3, 3),activation = 'relu'))\n",
    "modified_original_model.add(Conv2D(64, (3, 3),activation = 'relu'))\n",
    "##this layer looks at the 2 neighboring pixels and picks the max value and it helps reduce overfitting\n",
    "modified_original_model.add(MaxPooling2D(pool_size=(2, 2)))\n",
    "#a proportion of nodes in the layer are randomly ignored\n",
    "#This randomly drops a propotion of the network and forces the network to learn features in a distributed way\n",
    "#also reduces overfitting\n",
    "modified_original_model.add(Dropout(0.50))\n",
    "\n",
    "modified_original_model.add(Flatten())\n",
    "modified_original_model.add(Dense(64,activation = 'relu'))\n",
    "modified_original_model.add(Dropout(0.5))\n",
    "modified_original_model.add(Dense(10,activation='sigmoid'))\n",
    "\n",
    "print(\"input shape \",modified_original_model.input_shape)\n",
    "print(\"output shape \",modified_original_model.output_shape)\n",
    "\n",
    "modified_original_model.compile(optimizer=RMSprop(lr=0.001),\n",
    " loss='categorical_crossentropy',\n",
    " metrics=['accuracy'])"
   ]
  },
  {
   "cell_type": "code",
   "execution_count": 19,
   "metadata": {},
   "outputs": [
    {
     "name": "stdout",
     "output_type": "stream",
     "text": [
      "Epoch 1/12\n",
      "625/625 [==============================] - 92s - loss: 1.6870 - acc: 0.4768 - val_loss: 0.2311 - val_acc: 0.9447\n",
      "Epoch 2/12\n",
      "625/625 [==============================] - 95s - loss: 0.4321 - acc: 0.8773 - val_loss: 0.1120 - val_acc: 0.9676\n",
      "Epoch 3/12\n",
      "625/625 [==============================] - 95s - loss: 0.2950 - acc: 0.9210 - val_loss: 0.0995 - val_acc: 0.9722\n",
      "Epoch 4/12\n",
      "625/625 [==============================] - 88s - loss: 0.2576 - acc: 0.9299 - val_loss: 0.0864 - val_acc: 0.9757\n",
      "Epoch 5/12\n",
      "625/625 [==============================] - 89s - loss: 0.2278 - acc: 0.9394 - val_loss: 0.1037 - val_acc: 0.9720\n",
      "Epoch 6/12\n",
      "625/625 [==============================] - 92s - loss: 0.2013 - acc: 0.9470 - val_loss: 0.0806 - val_acc: 0.9744\n",
      "Epoch 7/12\n",
      "625/625 [==============================] - 90s - loss: 0.2042 - acc: 0.9486 - val_loss: 0.1142 - val_acc: 0.9768\n",
      "Epoch 8/12\n",
      "625/625 [==============================] - 90s - loss: 0.2064 - acc: 0.9470 - val_loss: 0.0824 - val_acc: 0.9817\n",
      "Epoch 9/12\n",
      "625/625 [==============================] - 90s - loss: nan - acc: 0.2371 - val_loss: nan - val_acc: 0.0915\n",
      "Epoch 10/12\n",
      "625/625 [==============================] - 91s - loss: nan - acc: 0.1008 - val_loss: nan - val_acc: 0.1034\n",
      "Epoch 11/12\n",
      "625/625 [==============================] - 93s - loss: nan - acc: 0.0968 - val_loss: nan - val_acc: 0.1003\n",
      "Epoch 12/12\n",
      "625/625 [==============================] - 93s - loss: nan - acc: 0.1020 - val_loss: nan - val_acc: 0.0974\n"
     ]
    }
   ],
   "source": [
    "training_results_mod_orig = modified_original_model.fit_generator(\n",
    "    batches, \n",
    "    steps_per_epoch = NUMBER_TRAIN_EXAMPLES // BATCH_SIZE, \n",
    "    epochs=NUMBER_EPOCHS,      \n",
    "    validation_data=val_batches, \n",
    "    validation_steps = NUMBER_VALIDATION_EXAMPLES // BATCH_SIZE\n",
    ")"
   ]
  },
  {
   "cell_type": "code",
   "execution_count": 30,
   "metadata": {},
   "outputs": [
    {
     "data": {
      "image/png": "[encoded data removed]",
      "text/plain": [
       "<matplotlib.figure.Figure at 0x21ec5588278>"
      ]
     },
     "metadata": {},
     "output_type": "display_data"
    }
   ],
   "source": [
    "show_acc_graph(training_results_mod_orig, 'Kernel Change Model')"
   ]
  },
  {
   "cell_type": "code",
   "execution_count": 22,
   "metadata": {},
   "outputs": [
    {
     "name": "stdout",
     "output_type": "stream",
     "text": [
      "input shape  (None, 28, 28, 1)\n",
      "output shape  (None, 10)\n"
     ]
    }
   ],
   "source": [
    "#We'll try another model, this time with pooling layers after each\n",
    "#convolutional layer, and then a dropout layer before the final node to see if we can avoid over-fitting\n",
    "#changing the kernal size from 3 to 1\n",
    "\n",
    "#adding a layer we didnt explore in class\n",
    "from keras.layers.normalization import BatchNormalization as bn\n",
    "\n",
    "new_layer_model = Sequential()\n",
    "\n",
    "new_layer_model.add(Conv2D(32, (3, 3), activation = 'relu', input_shape=(28, 28, 1)))\n",
    "new_layer_model.add(Conv2D(32, (3, 3), activation = 'relu', input_shape=(28, 28, 1)))\n",
    "new_layer_model.add(bn())\n",
    "new_layer_model.add(MaxPooling2D(pool_size=(2, 2)))\n",
    "new_layer_model.add(bn())\n",
    "new_layer_model.add(Dropout(0.5))\n",
    "\n",
    "new_layer_model.add(Conv2D(64, (3, 3),activation = 'relu'))\n",
    "new_layer_model.add(Conv2D(64, (3, 3),activation = 'relu'))\n",
    "new_layer_model.add(bn())\n",
    "new_layer_model.add(MaxPooling2D(pool_size=(2, 2)))\n",
    "new_layer_model.add(bn())\n",
    "new_layer_model.add(Dropout(0.5))\n",
    "\n",
    "new_layer_model.add(Flatten())\n",
    "new_layer_model.add(Dense(64,activation = 'relu'))\n",
    "new_layer_model.add(Dropout(0.5))\n",
    "new_layer_model.add(Dense(10,activation='sigmoid'))\n",
    "\n",
    "print(\"input shape \",new_layer_model.input_shape)\n",
    "print(\"output shape \",new_layer_model.output_shape)\n",
    "\n",
    "new_layer_model.compile(optimizer=RMSprop(lr=0.001),\n",
    " loss='categorical_crossentropy',\n",
    " metrics=['accuracy'])"
   ]
  },
  {
   "cell_type": "code",
   "execution_count": 23,
   "metadata": {},
   "outputs": [
    {
     "name": "stdout",
     "output_type": "stream",
     "text": [
      "Epoch 1/12\n",
      "625/625 [==============================] - 142s - loss: 0.6880 - acc: 0.8024 - val_loss: 0.1279 - val_acc: 0.9647\n",
      "Epoch 2/12\n",
      "625/625 [==============================] - 138s - loss: 0.2472 - acc: 0.9348 - val_loss: 0.0840 - val_acc: 0.9804\n",
      "Epoch 3/12\n",
      "625/625 [==============================] - 141s - loss: 0.1803 - acc: 0.9523 - val_loss: 0.0878 - val_acc: 0.9805\n",
      "Epoch 4/12\n",
      "625/625 [==============================] - 136s - loss: 0.1617 - acc: 0.9578 - val_loss: 0.0712 - val_acc: 0.9809\n",
      "Epoch 5/12\n",
      "625/625 [==============================] - 136s - loss: 0.1583 - acc: 0.9587 - val_loss: 0.0694 - val_acc: 0.9848\n",
      "Epoch 6/12\n",
      "625/625 [==============================] - 138s - loss: 0.1359 - acc: 0.9647 - val_loss: 0.0599 - val_acc: 0.9842\n",
      "Epoch 7/12\n",
      "625/625 [==============================] - 135s - loss: 0.1322 - acc: 0.9668 - val_loss: 0.0454 - val_acc: 0.9882\n",
      "Epoch 8/12\n",
      "625/625 [==============================] - 129s - loss: 0.1297 - acc: 0.9687 - val_loss: 0.0723 - val_acc: 0.9832\n",
      "Epoch 9/12\n",
      "625/625 [==============================] - 129s - loss: 0.1228 - acc: 0.9698 - val_loss: 0.0507 - val_acc: 0.9888\n",
      "Epoch 10/12\n",
      "625/625 [==============================] - 129s - loss: 0.1225 - acc: 0.9696 - val_loss: 0.0504 - val_acc: 0.98870.\n",
      "Epoch 11/12\n",
      "625/625 [==============================] - 128s - loss: 0.1270 - acc: 0.9714 - val_loss: 0.0402 - val_acc: 0.9882\n",
      "Epoch 12/12\n",
      "625/625 [==============================] - 129s - loss: 0.1198 - acc: 0.9706 - val_loss: 0.0376 - val_acc: 0.9905\n"
     ]
    }
   ],
   "source": [
    "training_results_new_layer = new_layer_model.fit_generator(\n",
    "    batches, \n",
    "    steps_per_epoch = NUMBER_TRAIN_EXAMPLES // BATCH_SIZE, \n",
    "    epochs=NUMBER_EPOCHS,      \n",
    "    validation_data=val_batches, \n",
    "    validation_steps = NUMBER_VALIDATION_EXAMPLES // BATCH_SIZE\n",
    ")"
   ]
  },
  {
   "cell_type": "code",
   "execution_count": 31,
   "metadata": {},
   "outputs": [
    {
     "data": {
      "image/png": "[encoded data removed]",
      "text/plain": [
       "<matplotlib.figure.Figure at 0x21ec561eda0>"
      ]
     },
     "metadata": {},
     "output_type": "display_data"
    }
   ],
   "source": [
    "show_acc_graph(training_results_new_layer, 'New Layer Model')"
   ]
  },
  {
   "cell_type": "code",
   "execution_count": null,
   "metadata": {
    "collapsed": true
   },
   "outputs": [],
   "source": []
  }
 ],
 "metadata": {
  "kernelspec": {
   "display_name": "Python 3",
   "language": "python",
   "name": "python3"
  },
  "language_info": {
   "codemirror_mode": {
    "name": "ipython",
    "version": 3
   },
   "file_extension": ".py",
   "mimetype": "text/x-python",
   "name": "python",
   "nbconvert_exporter": "python",
   "pygments_lexer": "ipython3",
   "version": "3.6.1"
  }
 },
 "nbformat": 4,
 "nbformat_minor": 2
}
